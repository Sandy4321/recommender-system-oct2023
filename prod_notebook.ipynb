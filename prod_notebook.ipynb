{
 "cells": [
  {
   "cell_type": "code",
   "execution_count": 1,
   "id": "4f9d45bf",
   "metadata": {},
   "outputs": [],
   "source": [
    "import pandas as pd\n",
    "import joblib\n",
    "import numpy as np\n",
    "import scipy.sparse as sparse\n",
    "import random\n",
    "import implicit\n",
    "from sklearn.preprocessing import MinMaxScaler"
   ]
  },
  {
   "cell_type": "markdown",
   "id": "2b735db7",
   "metadata": {},
   "source": [
    "### Load Dataset"
   ]
  },
  {
   "cell_type": "code",
   "execution_count": 11,
   "id": "6fe3fc7f",
   "metadata": {},
   "outputs": [],
   "source": [
    "users_df = pd.read_csv(\"v1/data/users.csv\")\n",
    "items_df = pd.read_csv(\"v1/data/items.csv\")\n",
    "user_item_interaction_df = pd.read_csv(\"v1/data/user_item_interactions.csv\")"
   ]
  },
  {
   "cell_type": "markdown",
   "id": "f9957c12",
   "metadata": {},
   "source": [
    "### 1. Lightfm"
   ]
  },
  {
   "cell_type": "code",
   "execution_count": 12,
   "id": "e4d19f21",
   "metadata": {},
   "outputs": [],
   "source": [
    "from lightfm.cross_validation import random_train_test_split\n",
    "from lightfm.evaluation import precision_at_k\n",
    "from lightfm.evaluation import auc_score\n",
    "from lightfm.data import Dataset\n",
    "from lightfm import LightFM"
   ]
  },
  {
   "cell_type": "code",
   "execution_count": 13,
   "id": "69418ffe",
   "metadata": {},
   "outputs": [
    {
     "data": {
      "text/html": [
       "<div>\n",
       "<style scoped>\n",
       "    .dataframe tbody tr th:only-of-type {\n",
       "        vertical-align: middle;\n",
       "    }\n",
       "\n",
       "    .dataframe tbody tr th {\n",
       "        vertical-align: top;\n",
       "    }\n",
       "\n",
       "    .dataframe thead th {\n",
       "        text-align: right;\n",
       "    }\n",
       "</style>\n",
       "<table border=\"1\" class=\"dataframe\">\n",
       "  <thead>\n",
       "    <tr style=\"text-align: right;\">\n",
       "      <th></th>\n",
       "      <th>id</th>\n",
       "      <th>title</th>\n",
       "      <th>price</th>\n",
       "      <th>brand</th>\n",
       "      <th>category</th>\n",
       "    </tr>\n",
       "  </thead>\n",
       "  <tbody>\n",
       "    <tr>\n",
       "      <th>0</th>\n",
       "      <td>14521</td>\n",
       "      <td>Oxy 10, 10gm</td>\n",
       "      <td>286.20</td>\n",
       "      <td>321</td>\n",
       "      <td>119</td>\n",
       "    </tr>\n",
       "    <tr>\n",
       "      <th>1</th>\n",
       "      <td>12352</td>\n",
       "      <td>Make-Up Studio Brush Cleanser(Ph0900)</td>\n",
       "      <td>1785.00</td>\n",
       "      <td>264</td>\n",
       "      <td>57</td>\n",
       "    </tr>\n",
       "    <tr>\n",
       "      <th>2</th>\n",
       "      <td>11507</td>\n",
       "      <td>Buddsbuddy Silicone Orthodontic Pacifier (1pc)</td>\n",
       "      <td>169.15</td>\n",
       "      <td>57</td>\n",
       "      <td>328</td>\n",
       "    </tr>\n",
       "    <tr>\n",
       "      <th>3</th>\n",
       "      <td>12401</td>\n",
       "      <td>Make-Up Studio Cream Blusher</td>\n",
       "      <td>2200.00</td>\n",
       "      <td>264</td>\n",
       "      <td>42</td>\n",
       "    </tr>\n",
       "    <tr>\n",
       "      <th>4</th>\n",
       "      <td>14408</td>\n",
       "      <td>Set Wet Hair Gel Cool- 50 Ml</td>\n",
       "      <td>104.00</td>\n",
       "      <td>381</td>\n",
       "      <td>158</td>\n",
       "    </tr>\n",
       "  </tbody>\n",
       "</table>\n",
       "</div>"
      ],
      "text/plain": [
       "      id                                           title    price  brand  \\\n",
       "0  14521                                    Oxy 10, 10gm   286.20    321   \n",
       "1  12352           Make-Up Studio Brush Cleanser(Ph0900)  1785.00    264   \n",
       "2  11507  Buddsbuddy Silicone Orthodontic Pacifier (1pc)   169.15     57   \n",
       "3  12401                    Make-Up Studio Cream Blusher  2200.00    264   \n",
       "4  14408                    Set Wet Hair Gel Cool- 50 Ml   104.00    381   \n",
       "\n",
       "   category  \n",
       "0       119  \n",
       "1        57  \n",
       "2       328  \n",
       "3        42  \n",
       "4       158  "
      ]
     },
     "execution_count": 13,
     "metadata": {},
     "output_type": "execute_result"
    }
   ],
   "source": [
    "items_df['brand'] = items_df['brand'].astype('category')\n",
    "items_df['brand'] = items_df['brand'].cat.codes\n",
    "items_df['category'] = items_df['category'].astype('category')\n",
    "items_df['category'] = items_df['category'].cat.codes\n",
    "items_features = [(row['price'], row['brand'], row['category']) for index, row in items_df.iterrows()]\n",
    "items_df.head()"
   ]
  },
  {
   "cell_type": "code",
   "execution_count": 14,
   "id": "ffe0265d",
   "metadata": {},
   "outputs": [],
   "source": [
    "users_df['gender'] = users_df['gender'].astype('category')\n",
    "users_df['gender'] = users_df['gender'].cat.codes\n",
    "user_features =  [(row['age'], row['gender']) for index, row in users_df.iterrows()]"
   ]
  },
  {
   "cell_type": "code",
   "execution_count": 15,
   "id": "ed822af3",
   "metadata": {},
   "outputs": [],
   "source": [
    "dataset = Dataset()\n",
    "dataset.fit(users_df['id'].values, items_df['id'].values,user_features=user_features, item_features=items_features)"
   ]
  },
  {
   "cell_type": "code",
   "execution_count": 16,
   "id": "d3458615",
   "metadata": {},
   "outputs": [],
   "source": [
    "interactions, weights = dataset.build_interactions((row['user'], row['item'], row['rating']) for index, row in user_item_interaction_df.iterrows())"
   ]
  },
  {
   "cell_type": "code",
   "execution_count": 17,
   "id": "9b724ffb",
   "metadata": {},
   "outputs": [],
   "source": [
    "train, test = random_train_test_split(interactions)"
   ]
  },
  {
   "cell_type": "code",
   "execution_count": 18,
   "id": "baace424",
   "metadata": {},
   "outputs": [
    {
     "data": {
      "text/plain": [
       "<lightfm.lightfm.LightFM at 0x1364e94f0>"
      ]
     },
     "execution_count": 18,
     "metadata": {},
     "output_type": "execute_result"
    }
   ],
   "source": [
    "lightfm_model = LightFM(learning_rate=0.05, loss='warp')\n",
    "lightfm_model.fit(interactions, epochs=10)"
   ]
  },
  {
   "cell_type": "code",
   "execution_count": 40,
   "id": "196317c8",
   "metadata": {},
   "outputs": [
    {
     "data": {
      "text/plain": [
       "['api/prediction/lightfm/id_mapper.joblib']"
      ]
     },
     "execution_count": 40,
     "metadata": {},
     "output_type": "execute_result"
    }
   ],
   "source": [
    "joblib.dump(lightfm_model,\"api/prediction/lightfm/model.joblib\")\n",
    "joblib.dump(dataset, \"api/prediction/lightfm/id_mapper.joblib\")"
   ]
  },
  {
   "cell_type": "code",
   "execution_count": 19,
   "id": "8b0515a9",
   "metadata": {},
   "outputs": [
    {
     "name": "stdout",
     "output_type": "stream",
     "text": [
      "Precision: train 0.09, test 0.04.\n",
      "AUC: train 0.95, test 0.95.\n"
     ]
    }
   ],
   "source": [
    "train_precision = precision_at_k(lightfm_model, train, k=10).mean()\n",
    "test_precision = precision_at_k(lightfm_model, test, k=10).mean()\n",
    "\n",
    "train_auc = auc_score(lightfm_model, train).mean()\n",
    "test_auc = auc_score(lightfm_model, test).mean()\n",
    "\n",
    "print('Precision: train %.2f, test %.2f.' % (train_precision, test_precision))\n",
    "print('AUC: train %.2f, test %.2f.' % (train_auc, test_auc))"
   ]
  },
  {
   "cell_type": "code",
   "execution_count": 39,
   "id": "3c20a81e",
   "metadata": {},
   "outputs": [
    {
     "name": "stdout",
     "output_type": "stream",
     "text": [
      "      id                         title  price  brand  category\n",
      "4  14408  Set Wet Hair Gel Cool- 50 Ml  104.0    381       158\n",
      "Zoryl 3mg Tab\n",
      "Axillary Crutches Small Size\n",
      "Siptin 100mg Tab\n",
      "Rotahaler\n",
      "Farmasi Vfx Pro Camera Ready Foundation\n",
      "Cosmo Body Spray Allemagne- 120 Ml\n",
      "Zebita Xt Tab\n",
      "Mi Simple Way Foaming Handwash\n",
      "Farlin Anti-Mosquito Patch 002- Bck-002\n"
     ]
    }
   ],
   "source": [
    "def get_similar_product(model, item_id):\n",
    "    # Define similarity as the cosine of the angle\n",
    "    # between the tag latent vectors\n",
    "    \n",
    "    # Normalize the vectors to unit length\n",
    "    tag_embeddings = (model.item_embeddings.T\n",
    "                      / np.linalg.norm(model.item_embeddings, axis=1)).T\n",
    "    \n",
    "    query_embedding = tag_embeddings[item_id]\n",
    "    similarity = np.dot(tag_embeddings, query_embedding)\n",
    "    most_similar = np.argsort(-similarity)[1:10]\n",
    "    \n",
    "    return most_similar\n",
    "\n",
    "print(items_df[(items_df['id']==14408)])\n",
    "\n",
    "similar_products = get_similar_product(lightfm_model,14408)\n",
    "for product in similar_products:\n",
    "    print(items_df['title'][product])"
   ]
  },
  {
   "cell_type": "code",
   "execution_count": null,
   "id": "db195498",
   "metadata": {},
   "outputs": [],
   "source": [
    "scores = lightfm_model.predict(0, np.arange(12000))\n",
    "len(np.argsort(-scores))"
   ]
  },
  {
   "cell_type": "markdown",
   "id": "40fc0e82",
   "metadata": {},
   "source": [
    "### 2. Using Implicit"
   ]
  },
  {
   "cell_type": "code",
   "execution_count": 20,
   "id": "73d7dd37",
   "metadata": {},
   "outputs": [],
   "source": [
    "dataset_df = user_item_interaction_df.copy()"
   ]
  },
  {
   "cell_type": "code",
   "execution_count": 51,
   "id": "938ad4d1",
   "metadata": {},
   "outputs": [],
   "source": [
    "dataset_transformed = dataset_df.copy()\n",
    "dataset_transformed['user'] = dataset_transformed['user'].astype(\"category\")\n",
    "dataset_transformed['user_id'] = dataset_transformed['user'].cat.codes\n",
    "\n",
    "sparse_item_user = sparse.csr_matrix((dataset_transformed['rating'].astype(float), (dataset_transformed['item'], dataset_transformed['user_id'])))\n",
    "sparse_user_item = sparse.csr_matrix((dataset_transformed['rating'].astype(float), (dataset_transformed['user_id'], dataset_transformed['item'])))"
   ]
  },
  {
   "cell_type": "code",
   "execution_count": 52,
   "id": "2b8fec7d",
   "metadata": {},
   "outputs": [
    {
     "ename": "AttributeError",
     "evalue": "Can only use .cat accessor with a 'category' dtype",
     "output_type": "error",
     "traceback": [
      "\u001b[0;31m---------------------------------------------------------------------------\u001b[0m",
      "\u001b[0;31mAttributeError\u001b[0m                            Traceback (most recent call last)",
      "Input \u001b[0;32mIn [52]\u001b[0m, in \u001b[0;36m<module>\u001b[0;34m\u001b[0m\n\u001b[0;32m----> 1\u001b[0m \u001b[43mdataset_transformed\u001b[49m\u001b[43m[\u001b[49m\u001b[38;5;124;43m'\u001b[39;49m\u001b[38;5;124;43muser_id\u001b[39;49m\u001b[38;5;124;43m'\u001b[39;49m\u001b[43m]\u001b[49m\u001b[38;5;241;43m.\u001b[39;49m\u001b[43mcat\u001b[49m\u001b[38;5;241m.\u001b[39mcategories\n",
      "File \u001b[0;32m~/PycharmProjects/recommender-system/venv/lib/python3.9/site-packages/pandas/core/generic.py:5583\u001b[0m, in \u001b[0;36mNDFrame.__getattr__\u001b[0;34m(self, name)\u001b[0m\n\u001b[1;32m   5576\u001b[0m \u001b[38;5;28;01mif\u001b[39;00m (\n\u001b[1;32m   5577\u001b[0m     name \u001b[38;5;129;01mnot\u001b[39;00m \u001b[38;5;129;01min\u001b[39;00m \u001b[38;5;28mself\u001b[39m\u001b[38;5;241m.\u001b[39m_internal_names_set\n\u001b[1;32m   5578\u001b[0m     \u001b[38;5;129;01mand\u001b[39;00m name \u001b[38;5;129;01mnot\u001b[39;00m \u001b[38;5;129;01min\u001b[39;00m \u001b[38;5;28mself\u001b[39m\u001b[38;5;241m.\u001b[39m_metadata\n\u001b[1;32m   5579\u001b[0m     \u001b[38;5;129;01mand\u001b[39;00m name \u001b[38;5;129;01mnot\u001b[39;00m \u001b[38;5;129;01min\u001b[39;00m \u001b[38;5;28mself\u001b[39m\u001b[38;5;241m.\u001b[39m_accessors\n\u001b[1;32m   5580\u001b[0m     \u001b[38;5;129;01mand\u001b[39;00m \u001b[38;5;28mself\u001b[39m\u001b[38;5;241m.\u001b[39m_info_axis\u001b[38;5;241m.\u001b[39m_can_hold_identifiers_and_holds_name(name)\n\u001b[1;32m   5581\u001b[0m ):\n\u001b[1;32m   5582\u001b[0m     \u001b[38;5;28;01mreturn\u001b[39;00m \u001b[38;5;28mself\u001b[39m[name]\n\u001b[0;32m-> 5583\u001b[0m \u001b[38;5;28;01mreturn\u001b[39;00m \u001b[38;5;28;43mobject\u001b[39;49m\u001b[38;5;241;43m.\u001b[39;49m\u001b[38;5;21;43m__getattribute__\u001b[39;49m\u001b[43m(\u001b[49m\u001b[38;5;28;43mself\u001b[39;49m\u001b[43m,\u001b[49m\u001b[43m \u001b[49m\u001b[43mname\u001b[49m\u001b[43m)\u001b[49m\n",
      "File \u001b[0;32m~/PycharmProjects/recommender-system/venv/lib/python3.9/site-packages/pandas/core/accessor.py:182\u001b[0m, in \u001b[0;36mCachedAccessor.__get__\u001b[0;34m(self, obj, cls)\u001b[0m\n\u001b[1;32m    179\u001b[0m \u001b[38;5;28;01mif\u001b[39;00m obj \u001b[38;5;129;01mis\u001b[39;00m \u001b[38;5;28;01mNone\u001b[39;00m:\n\u001b[1;32m    180\u001b[0m     \u001b[38;5;66;03m# we're accessing the attribute of the class, i.e., Dataset.geo\u001b[39;00m\n\u001b[1;32m    181\u001b[0m     \u001b[38;5;28;01mreturn\u001b[39;00m \u001b[38;5;28mself\u001b[39m\u001b[38;5;241m.\u001b[39m_accessor\n\u001b[0;32m--> 182\u001b[0m accessor_obj \u001b[38;5;241m=\u001b[39m \u001b[38;5;28;43mself\u001b[39;49m\u001b[38;5;241;43m.\u001b[39;49m\u001b[43m_accessor\u001b[49m\u001b[43m(\u001b[49m\u001b[43mobj\u001b[49m\u001b[43m)\u001b[49m\n\u001b[1;32m    183\u001b[0m \u001b[38;5;66;03m# Replace the property with the accessor object. Inspired by:\u001b[39;00m\n\u001b[1;32m    184\u001b[0m \u001b[38;5;66;03m# https://www.pydanny.com/cached-property.html\u001b[39;00m\n\u001b[1;32m    185\u001b[0m \u001b[38;5;66;03m# We need to use object.__setattr__ because we overwrite __setattr__ on\u001b[39;00m\n\u001b[1;32m    186\u001b[0m \u001b[38;5;66;03m# NDFrame\u001b[39;00m\n\u001b[1;32m    187\u001b[0m \u001b[38;5;28mobject\u001b[39m\u001b[38;5;241m.\u001b[39m\u001b[38;5;21m__setattr__\u001b[39m(obj, \u001b[38;5;28mself\u001b[39m\u001b[38;5;241m.\u001b[39m_name, accessor_obj)\n",
      "File \u001b[0;32m~/PycharmProjects/recommender-system/venv/lib/python3.9/site-packages/pandas/core/arrays/categorical.py:2717\u001b[0m, in \u001b[0;36mCategoricalAccessor.__init__\u001b[0;34m(self, data)\u001b[0m\n\u001b[1;32m   2716\u001b[0m \u001b[38;5;28;01mdef\u001b[39;00m \u001b[38;5;21m__init__\u001b[39m(\u001b[38;5;28mself\u001b[39m, data):\n\u001b[0;32m-> 2717\u001b[0m     \u001b[38;5;28;43mself\u001b[39;49m\u001b[38;5;241;43m.\u001b[39;49m\u001b[43m_validate\u001b[49m\u001b[43m(\u001b[49m\u001b[43mdata\u001b[49m\u001b[43m)\u001b[49m\n\u001b[1;32m   2718\u001b[0m     \u001b[38;5;28mself\u001b[39m\u001b[38;5;241m.\u001b[39m_parent \u001b[38;5;241m=\u001b[39m data\u001b[38;5;241m.\u001b[39mvalues\n\u001b[1;32m   2719\u001b[0m     \u001b[38;5;28mself\u001b[39m\u001b[38;5;241m.\u001b[39m_index \u001b[38;5;241m=\u001b[39m data\u001b[38;5;241m.\u001b[39mindex\n",
      "File \u001b[0;32m~/PycharmProjects/recommender-system/venv/lib/python3.9/site-packages/pandas/core/arrays/categorical.py:2726\u001b[0m, in \u001b[0;36mCategoricalAccessor._validate\u001b[0;34m(data)\u001b[0m\n\u001b[1;32m   2723\u001b[0m \u001b[38;5;129m@staticmethod\u001b[39m\n\u001b[1;32m   2724\u001b[0m \u001b[38;5;28;01mdef\u001b[39;00m \u001b[38;5;21m_validate\u001b[39m(data):\n\u001b[1;32m   2725\u001b[0m     \u001b[38;5;28;01mif\u001b[39;00m \u001b[38;5;129;01mnot\u001b[39;00m is_categorical_dtype(data\u001b[38;5;241m.\u001b[39mdtype):\n\u001b[0;32m-> 2726\u001b[0m         \u001b[38;5;28;01mraise\u001b[39;00m \u001b[38;5;167;01mAttributeError\u001b[39;00m(\u001b[38;5;124m\"\u001b[39m\u001b[38;5;124mCan only use .cat accessor with a \u001b[39m\u001b[38;5;124m'\u001b[39m\u001b[38;5;124mcategory\u001b[39m\u001b[38;5;124m'\u001b[39m\u001b[38;5;124m dtype\u001b[39m\u001b[38;5;124m\"\u001b[39m)\n",
      "\u001b[0;31mAttributeError\u001b[0m: Can only use .cat accessor with a 'category' dtype"
     ]
    }
   ],
   "source": [
    "dataset_transformed['user_id'].cat.categories"
   ]
  },
  {
   "cell_type": "code",
   "execution_count": 22,
   "id": "71bcfd5a",
   "metadata": {},
   "outputs": [
    {
     "data": {
      "application/vnd.jupyter.widget-view+json": {
       "model_id": "9b44fee1a29043dbac3e7b993c643a53",
       "version_major": 2,
       "version_minor": 0
      },
      "text/plain": [
       "  0%|          | 0/50 [00:00<?, ?it/s]"
      ]
     },
     "metadata": {},
     "output_type": "display_data"
    }
   ],
   "source": [
    "model = implicit.als.AlternatingLeastSquares(factors=20, regularization=0.1, iterations=50)\n",
    "model.fit(interactions)"
   ]
  },
  {
   "cell_type": "code",
   "execution_count": 95,
   "id": "0e19f3f1",
   "metadata": {},
   "outputs": [
    {
     "name": "stdout",
     "output_type": "stream",
     "text": [
      "[9 8 7 6 5 4 3 2 1 0]\n"
     ]
    }
   ],
   "source": [
    "ids, scores = model.recommend(1001, interactions.tocsr()[1001], N=10)\n",
    "print(ids)"
   ]
  },
  {
   "cell_type": "code",
   "execution_count": 36,
   "id": "10e7eece",
   "metadata": {},
   "outputs": [
    {
     "data": {
      "application/vnd.jupyter.widget-view+json": {
       "model_id": "f9ac2ad562854db39c8f77a915f6b9f1",
       "version_major": 2,
       "version_minor": 0
      },
      "text/plain": [
       "  0%|          | 0/14758 [00:00<?, ?it/s]"
      ]
     },
     "metadata": {},
     "output_type": "display_data"
    },
    {
     "data": {
      "text/plain": [
       "{'precision': 0.10577496814978471,\n",
       " 'map': 0.0806387600721724,\n",
       " 'ndcg': 0.12058011957293072,\n",
       " 'auc': 0.5695938936430563}"
      ]
     },
     "execution_count": 36,
     "metadata": {},
     "output_type": "execute_result"
    }
   ],
   "source": [
    "from implicit.evaluation import ranking_metrics_at_k\n",
    "metrics = ranking_metrics_at_k(model, train, test, K=10, num_threads=4)\n",
    "metrics"
   ]
  },
  {
   "cell_type": "code",
   "execution_count": 43,
   "id": "f63a7505",
   "metadata": {},
   "outputs": [
    {
     "data": {
      "text/plain": [
       "['api/prediction/implicit/sparse_user_item.joblib']"
      ]
     },
     "execution_count": 43,
     "metadata": {},
     "output_type": "execute_result"
    }
   ],
   "source": [
    "joblib.dump(model, \"api/prediction/implicit/model.joblib\")\n",
    "joblib.dump(model, \"api/prediction/implicit/sparse_user_item.joblib\")"
   ]
  }
 ],
 "metadata": {
  "kernelspec": {
   "display_name": "Python 3 (ipykernel)",
   "language": "python",
   "name": "python3"
  },
  "language_info": {
   "codemirror_mode": {
    "name": "ipython",
    "version": 3
   },
   "file_extension": ".py",
   "mimetype": "text/x-python",
   "name": "python",
   "nbconvert_exporter": "python",
   "pygments_lexer": "ipython3",
   "version": "3.9.10"
  }
 },
 "nbformat": 4,
 "nbformat_minor": 5
}
