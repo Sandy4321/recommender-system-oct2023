{
 "cells": [
  {
   "cell_type": "code",
   "execution_count": 1,
   "id": "4248342c",
   "metadata": {},
   "outputs": [],
   "source": [
    "import pandas as pd\n",
    "import joblib\n",
    "import numpy as np\n",
    "import scipy.sparse as sparse\n",
    "import random\n",
    "import implicit\n",
    "from sklearn.preprocessing import MinMaxScaler"
   ]
  },
  {
   "cell_type": "markdown",
   "id": "93e17541",
   "metadata": {},
   "source": [
    "### Load Dataset"
   ]
  },
  {
   "cell_type": "code",
   "execution_count": 11,
   "id": "d4bffa49",
   "metadata": {},
   "outputs": [],
   "source": [
    "users_df = pd.read_csv(\"v1/data/users.csv\")\n",
    "items_df = pd.read_csv(\"v1/data/items.csv\")\n",
    "user_item_interaction_df = pd.read_csv(\"v1/data/user_item_interactions.csv\")"
   ]
  },
  {
   "cell_type": "markdown",
   "id": "7344c8b0",
   "metadata": {},
   "source": [
    "### 1. Lightfm"
   ]
  },
  {
   "cell_type": "code",
   "execution_count": 12,
   "id": "1351a754",
   "metadata": {},
   "outputs": [],
   "source": [
    "from lightfm.cross_validation import random_train_test_split\n",
    "from lightfm.evaluation import precision_at_k\n",
    "from lightfm.evaluation import auc_score\n",
    "from lightfm.data import Dataset\n",
    "from lightfm import LightFM"
   ]
  },
  {
   "cell_type": "code",
   "execution_count": 13,
   "id": "430f53a7",
   "metadata": {},
   "outputs": [
    {
     "data": {
      "text/html": [
       "<div>\n",
       "<style scoped>\n",
       "    .dataframe tbody tr th:only-of-type {\n",
       "        vertical-align: middle;\n",
       "    }\n",
       "\n",
       "    .dataframe tbody tr th {\n",
       "        vertical-align: top;\n",
       "    }\n",
       "\n",
       "    .dataframe thead th {\n",
       "        text-align: right;\n",
       "    }\n",
       "</style>\n",
       "<table border=\"1\" class=\"dataframe\">\n",
       "  <thead>\n",
       "    <tr style=\"text-align: right;\">\n",
       "      <th></th>\n",
       "      <th>id</th>\n",
       "      <th>title</th>\n",
       "      <th>price</th>\n",
       "      <th>brand</th>\n",
       "      <th>category</th>\n",
       "    </tr>\n",
       "  </thead>\n",
       "  <tbody>\n",
       "    <tr>\n",
       "      <th>0</th>\n",
       "      <td>14521</td>\n",
       "      <td>Oxy 10, 10gm</td>\n",
       "      <td>286.20</td>\n",
       "      <td>321</td>\n",
       "      <td>119</td>\n",
       "    </tr>\n",
       "    <tr>\n",
       "      <th>1</th>\n",
       "      <td>12352</td>\n",
       "      <td>Make-Up Studio Brush Cleanser(Ph0900)</td>\n",
       "      <td>1785.00</td>\n",
       "      <td>264</td>\n",
       "      <td>57</td>\n",
       "    </tr>\n",
       "    <tr>\n",
       "      <th>2</th>\n",
       "      <td>11507</td>\n",
       "      <td>Buddsbuddy Silicone Orthodontic Pacifier (1pc)</td>\n",
       "      <td>169.15</td>\n",
       "      <td>57</td>\n",
       "      <td>328</td>\n",
       "    </tr>\n",
       "    <tr>\n",
       "      <th>3</th>\n",
       "      <td>12401</td>\n",
       "      <td>Make-Up Studio Cream Blusher</td>\n",
       "      <td>2200.00</td>\n",
       "      <td>264</td>\n",
       "      <td>42</td>\n",
       "    </tr>\n",
       "    <tr>\n",
       "      <th>4</th>\n",
       "      <td>14408</td>\n",
       "      <td>Set Wet Hair Gel Cool- 50 Ml</td>\n",
       "      <td>104.00</td>\n",
       "      <td>381</td>\n",
       "      <td>158</td>\n",
       "    </tr>\n",
       "  </tbody>\n",
       "</table>\n",
       "</div>"
      ],
      "text/plain": [
       "      id                                           title    price  brand  \\\n",
       "0  14521                                    Oxy 10, 10gm   286.20    321   \n",
       "1  12352           Make-Up Studio Brush Cleanser(Ph0900)  1785.00    264   \n",
       "2  11507  Buddsbuddy Silicone Orthodontic Pacifier (1pc)   169.15     57   \n",
       "3  12401                    Make-Up Studio Cream Blusher  2200.00    264   \n",
       "4  14408                    Set Wet Hair Gel Cool- 50 Ml   104.00    381   \n",
       "\n",
       "   category  \n",
       "0       119  \n",
       "1        57  \n",
       "2       328  \n",
       "3        42  \n",
       "4       158  "
      ]
     },
     "execution_count": 13,
     "metadata": {},
     "output_type": "execute_result"
    }
   ],
   "source": [
    "items_df['brand'] = items_df['brand'].astype('category')\n",
    "items_df['brand'] = items_df['brand'].cat.codes\n",
    "items_df['category'] = items_df['category'].astype('category')\n",
    "items_df['category'] = items_df['category'].cat.codes\n",
    "items_features = [(row['price'], row['brand'], row['category']) for index, row in items_df.iterrows()]\n",
    "items_df.head()"
   ]
  },
  {
   "cell_type": "code",
   "execution_count": 14,
   "id": "45a9308d",
   "metadata": {},
   "outputs": [],
   "source": [
    "users_df['gender'] = users_df['gender'].astype('category')\n",
    "users_df['gender'] = users_df['gender'].cat.codes\n",
    "user_features =  [(row['age'], row['gender']) for index, row in users_df.iterrows()]"
   ]
  },
  {
   "cell_type": "code",
   "execution_count": 15,
   "id": "c3efc85b",
   "metadata": {},
   "outputs": [],
   "source": [
    "dataset = Dataset()\n",
    "dataset.fit(users_df['id'].values, items_df['id'].values,user_features=user_features, item_features=items_features)"
   ]
  },
  {
   "cell_type": "code",
   "execution_count": 16,
   "id": "ba6bef45",
   "metadata": {},
   "outputs": [],
   "source": [
    "interactions, weights = dataset.build_interactions((row['user'], row['item'], row['rating']) for index, row in user_item_interaction_df.iterrows())"
   ]
  },
  {
   "cell_type": "code",
   "execution_count": 17,
   "id": "95577593",
   "metadata": {},
   "outputs": [],
   "source": [
    "train, test = random_train_test_split(interactions)"
   ]
  },
  {
   "cell_type": "code",
   "execution_count": 18,
   "id": "8b2bd8a7",
   "metadata": {},
   "outputs": [
    {
     "data": {
      "text/plain": [
       "<lightfm.lightfm.LightFM at 0x1364e94f0>"
      ]
     },
     "execution_count": 18,
     "metadata": {},
     "output_type": "execute_result"
    }
   ],
   "source": [
    "lightfm_model = LightFM(learning_rate=0.05, loss='warp')\n",
    "lightfm_model.fit(interactions, epochs=10)"
   ]
  },
  {
   "cell_type": "code",
   "execution_count": 19,
   "id": "ee2ecb00",
   "metadata": {},
   "outputs": [
    {
     "name": "stdout",
     "output_type": "stream",
     "text": [
      "Precision: train 0.09, test 0.04.\n",
      "AUC: train 0.95, test 0.95.\n"
     ]
    }
   ],
   "source": [
    "train_precision = precision_at_k(lightfm_model, train, k=10).mean()\n",
    "test_precision = precision_at_k(lightfm_model, test, k=10).mean()\n",
    "\n",
    "train_auc = auc_score(lightfm_model, train).mean()\n",
    "test_auc = auc_score(lightfm_model, test).mean()\n",
    "\n",
    "print('Precision: train %.2f, test %.2f.' % (train_precision, test_precision))\n",
    "print('AUC: train %.2f, test %.2f.' % (train_auc, test_auc))"
   ]
  },
  {
   "cell_type": "markdown",
   "id": "af5ff212",
   "metadata": {},
   "source": [
    "### 2. Using Implicit"
   ]
  },
  {
   "cell_type": "code",
   "execution_count": 20,
   "id": "7c5e8e18",
   "metadata": {},
   "outputs": [],
   "source": [
    "dataset_df = user_item_interaction_df.copy()"
   ]
  },
  {
   "cell_type": "code",
   "execution_count": 21,
   "id": "fcbb0997",
   "metadata": {},
   "outputs": [],
   "source": [
    "dataset_transformed = dataset_df.copy()\n",
    "dataset_transformed['user'] = dataset_transformed['user'].astype(\"category\")\n",
    "dataset_transformed['user_id'] = dataset_transformed['user'].cat.codes\n",
    "\n",
    "sparse_item_user = sparse.csr_matrix((dataset_transformed['rating'].astype(float), (dataset_transformed['item'], dataset_transformed['user_id'])))\n",
    "sparse_user_item = sparse.csr_matrix((dataset_transformed['rating'].astype(float), (dataset_transformed['user_id'], dataset_transformed['item'])))"
   ]
  },
  {
   "cell_type": "code",
   "execution_count": null,
   "id": "990e96c6",
   "metadata": {},
   "outputs": [],
   "source": []
  },
  {
   "cell_type": "code",
   "execution_count": 22,
   "id": "5b950fc6",
   "metadata": {},
   "outputs": [
    {
     "data": {
      "application/vnd.jupyter.widget-view+json": {
       "model_id": "9b44fee1a29043dbac3e7b993c643a53",
       "version_major": 2,
       "version_minor": 0
      },
      "text/plain": [
       "  0%|          | 0/50 [00:00<?, ?it/s]"
      ]
     },
     "metadata": {},
     "output_type": "display_data"
    }
   ],
   "source": [
    "model = implicit.als.AlternatingLeastSquares(factors=20, regularization=0.1, iterations=50)\n",
    "model.fit(interactions)"
   ]
  },
  {
   "cell_type": "code",
   "execution_count": 36,
   "id": "6e87e21b",
   "metadata": {},
   "outputs": [
    {
     "data": {
      "application/vnd.jupyter.widget-view+json": {
       "model_id": "f9ac2ad562854db39c8f77a915f6b9f1",
       "version_major": 2,
       "version_minor": 0
      },
      "text/plain": [
       "  0%|          | 0/14758 [00:00<?, ?it/s]"
      ]
     },
     "metadata": {},
     "output_type": "display_data"
    },
    {
     "data": {
      "text/plain": [
       "{'precision': 0.10577496814978471,\n",
       " 'map': 0.0806387600721724,\n",
       " 'ndcg': 0.12058011957293072,\n",
       " 'auc': 0.5695938936430563}"
      ]
     },
     "execution_count": 36,
     "metadata": {},
     "output_type": "execute_result"
    }
   ],
   "source": [
    "from implicit.evaluation import ranking_metrics_at_k\n",
    "metrics = ranking_metrics_at_k(model, train, test, K=10, num_threads=4)\n",
    "metrics"
   ]
  },
  {
   "cell_type": "code",
   "execution_count": null,
   "id": "c90a8324",
   "metadata": {},
   "outputs": [],
   "source": [
    "train"
   ]
  }
 ],
 "metadata": {
  "kernelspec": {
   "display_name": "Python 3 (ipykernel)",
   "language": "python",
   "name": "python3"
  },
  "language_info": {
   "codemirror_mode": {
    "name": "ipython",
    "version": 3
   },
   "file_extension": ".py",
   "mimetype": "text/x-python",
   "name": "python",
   "nbconvert_exporter": "python",
   "pygments_lexer": "ipython3",
   "version": "3.9.10"
  }
 },
 "nbformat": 4,
 "nbformat_minor": 5
}
