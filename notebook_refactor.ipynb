{
 "cells": [
  {
   "cell_type": "code",
   "execution_count": 1,
   "id": "45b4b36b",
   "metadata": {},
   "outputs": [],
   "source": [
    "import pandas as pd\n",
    "import joblib"
   ]
  },
  {
   "cell_type": "code",
   "execution_count": 20,
   "id": "42395afe",
   "metadata": {},
   "outputs": [],
   "source": [
    "items_df = pd.read_csv(\"data/products.csv\")\n",
    "items = items_df.copy()"
   ]
  },
  {
   "cell_type": "code",
   "execution_count": 5,
   "id": "0171f9f1",
   "metadata": {},
   "outputs": [
    {
     "data": {
      "text/html": [
       "<div>\n",
       "<style scoped>\n",
       "    .dataframe tbody tr th:only-of-type {\n",
       "        vertical-align: middle;\n",
       "    }\n",
       "\n",
       "    .dataframe tbody tr th {\n",
       "        vertical-align: top;\n",
       "    }\n",
       "\n",
       "    .dataframe thead th {\n",
       "        text-align: right;\n",
       "    }\n",
       "</style>\n",
       "<table border=\"1\" class=\"dataframe\">\n",
       "  <thead>\n",
       "    <tr style=\"text-align: right;\">\n",
       "      <th></th>\n",
       "      <th>id</th>\n",
       "      <th>title</th>\n",
       "      <th>description</th>\n",
       "      <th>availability</th>\n",
       "      <th>condition</th>\n",
       "      <th>price</th>\n",
       "      <th>sale_price</th>\n",
       "      <th>link</th>\n",
       "      <th>brand</th>\n",
       "      <th>image_link</th>\n",
       "      <th>category</th>\n",
       "    </tr>\n",
       "  </thead>\n",
       "  <tbody>\n",
       "    <tr>\n",
       "      <th>0</th>\n",
       "      <td>14521</td>\n",
       "      <td>Oxy 10, 10gm</td>\n",
       "      <td>Oxy 10, 10gm</td>\n",
       "      <td>out of stock</td>\n",
       "      <td>new</td>\n",
       "      <td>318.00 NPR</td>\n",
       "      <td>286.20 NPR</td>\n",
       "      <td>https://jeevee.com/products?value=14521&amp;type=d...</td>\n",
       "      <td>OXY</td>\n",
       "      <td>https://jeeveedev.s3.us-east-2.amazonaws.com/w...</td>\n",
       "      <td>FACE MOISTURIZER &amp; DAY CREAM</td>\n",
       "    </tr>\n",
       "    <tr>\n",
       "      <th>1</th>\n",
       "      <td>12352</td>\n",
       "      <td>Make-Up Studio Brush Cleanser(Ph0900)</td>\n",
       "      <td>Make-Up Studio Brush Cleanser(Ph0900)</td>\n",
       "      <td>in stock</td>\n",
       "      <td>new</td>\n",
       "      <td>1785.00 NPR</td>\n",
       "      <td>1785.00 NPR</td>\n",
       "      <td>https://jeevee.com/products?value=12352&amp;type=d...</td>\n",
       "      <td>MAKE-UP STUDIO</td>\n",
       "      <td>https://jeeveedev.s3.us-east-2.amazonaws.com/w...</td>\n",
       "      <td>BRUSH SETS</td>\n",
       "    </tr>\n",
       "    <tr>\n",
       "      <th>2</th>\n",
       "      <td>11507</td>\n",
       "      <td>Buddsbuddy Silicone Orthodontic Pacifier (1pc)</td>\n",
       "      <td>Buddsbuddy Silicone Orthodontic Pacifier (1pc)</td>\n",
       "      <td>in stock</td>\n",
       "      <td>new</td>\n",
       "      <td>199.00 NPR</td>\n",
       "      <td>169.15 NPR</td>\n",
       "      <td>https://jeevee.com/products?value=11507&amp;type=d...</td>\n",
       "      <td>BUDDSBUDDY</td>\n",
       "      <td>https://jeeveedev.s3.us-east-2.amazonaws.com/w...</td>\n",
       "      <td>TEETHERS &amp; SOOTHERS</td>\n",
       "    </tr>\n",
       "    <tr>\n",
       "      <th>3</th>\n",
       "      <td>12401</td>\n",
       "      <td>Make-Up Studio Cream Blusher</td>\n",
       "      <td>Colour-Rebellious Red</td>\n",
       "      <td>in stock</td>\n",
       "      <td>new</td>\n",
       "      <td>2200.00 NPR</td>\n",
       "      <td>2200.00 NPR</td>\n",
       "      <td>https://jeevee.com/products?value=12401&amp;type=d...</td>\n",
       "      <td>MAKE-UP STUDIO</td>\n",
       "      <td>https://jeeveedev.s3.us-east-2.amazonaws.com/w...</td>\n",
       "      <td>BLUSH</td>\n",
       "    </tr>\n",
       "    <tr>\n",
       "      <th>4</th>\n",
       "      <td>14408</td>\n",
       "      <td>Set Wet Hair Gel Cool- 50 Ml</td>\n",
       "      <td>Set Wet Hair Gel Cool- 50 Ml</td>\n",
       "      <td>in stock</td>\n",
       "      <td>new</td>\n",
       "      <td>104.00 NPR</td>\n",
       "      <td>104.00 NPR</td>\n",
       "      <td>https://jeevee.com/products?value=14408&amp;type=d...</td>\n",
       "      <td>SET WET</td>\n",
       "      <td>https://jeeveedev.s3.us-east-2.amazonaws.com/w...</td>\n",
       "      <td>HAIR GELS, WAXES, CREAMS, POMADES &amp; CLAYS</td>\n",
       "    </tr>\n",
       "  </tbody>\n",
       "</table>\n",
       "</div>"
      ],
      "text/plain": [
       "      id                                           title  \\\n",
       "0  14521                                    Oxy 10, 10gm   \n",
       "1  12352           Make-Up Studio Brush Cleanser(Ph0900)   \n",
       "2  11507  Buddsbuddy Silicone Orthodontic Pacifier (1pc)   \n",
       "3  12401                    Make-Up Studio Cream Blusher   \n",
       "4  14408                    Set Wet Hair Gel Cool- 50 Ml   \n",
       "\n",
       "                                      description  availability condition  \\\n",
       "0                                    Oxy 10, 10gm  out of stock       new   \n",
       "1           Make-Up Studio Brush Cleanser(Ph0900)      in stock       new   \n",
       "2  Buddsbuddy Silicone Orthodontic Pacifier (1pc)      in stock       new   \n",
       "3                           Colour-Rebellious Red      in stock       new   \n",
       "4                    Set Wet Hair Gel Cool- 50 Ml      in stock       new   \n",
       "\n",
       "         price   sale_price  \\\n",
       "0   318.00 NPR   286.20 NPR   \n",
       "1  1785.00 NPR  1785.00 NPR   \n",
       "2   199.00 NPR   169.15 NPR   \n",
       "3  2200.00 NPR  2200.00 NPR   \n",
       "4   104.00 NPR   104.00 NPR   \n",
       "\n",
       "                                                link           brand  \\\n",
       "0  https://jeevee.com/products?value=14521&type=d...             OXY   \n",
       "1  https://jeevee.com/products?value=12352&type=d...  MAKE-UP STUDIO   \n",
       "2  https://jeevee.com/products?value=11507&type=d...      BUDDSBUDDY   \n",
       "3  https://jeevee.com/products?value=12401&type=d...  MAKE-UP STUDIO   \n",
       "4  https://jeevee.com/products?value=14408&type=d...         SET WET   \n",
       "\n",
       "                                          image_link  \\\n",
       "0  https://jeeveedev.s3.us-east-2.amazonaws.com/w...   \n",
       "1  https://jeeveedev.s3.us-east-2.amazonaws.com/w...   \n",
       "2  https://jeeveedev.s3.us-east-2.amazonaws.com/w...   \n",
       "3  https://jeeveedev.s3.us-east-2.amazonaws.com/w...   \n",
       "4  https://jeeveedev.s3.us-east-2.amazonaws.com/w...   \n",
       "\n",
       "                                    category  \n",
       "0               FACE MOISTURIZER & DAY CREAM  \n",
       "1                                 BRUSH SETS  \n",
       "2                        TEETHERS & SOOTHERS  \n",
       "3                                      BLUSH  \n",
       "4  HAIR GELS, WAXES, CREAMS, POMADES & CLAYS  "
      ]
     },
     "execution_count": 5,
     "metadata": {},
     "output_type": "execute_result"
    }
   ],
   "source": [
    "items.head()"
   ]
  },
  {
   "cell_type": "code",
   "execution_count": 26,
   "id": "b122de63",
   "metadata": {},
   "outputs": [],
   "source": [
    "items['price'] = items['sale_price'].str.replace(\" NPR\", '')\n",
    "items['price'] = items['price'].str.strip()\n",
    "items['price'] = items['price'].astype(float)\n",
    "items['category'] = items['category'].apply(lambda x: 'NO_CATEGORY' if x==None else x)\n",
    "items['category'] = items['category'].fillna(\"NO_CATEGORY\")\n",
    "items = items[['id','title','price','brand','category']]"
   ]
  },
  {
   "cell_type": "code",
   "execution_count": 27,
   "id": "19887d7e",
   "metadata": {},
   "outputs": [
    {
     "data": {
      "text/html": [
       "<div>\n",
       "<style scoped>\n",
       "    .dataframe tbody tr th:only-of-type {\n",
       "        vertical-align: middle;\n",
       "    }\n",
       "\n",
       "    .dataframe tbody tr th {\n",
       "        vertical-align: top;\n",
       "    }\n",
       "\n",
       "    .dataframe thead th {\n",
       "        text-align: right;\n",
       "    }\n",
       "</style>\n",
       "<table border=\"1\" class=\"dataframe\">\n",
       "  <thead>\n",
       "    <tr style=\"text-align: right;\">\n",
       "      <th></th>\n",
       "      <th>id</th>\n",
       "      <th>title</th>\n",
       "      <th>price</th>\n",
       "      <th>brand</th>\n",
       "      <th>category</th>\n",
       "    </tr>\n",
       "  </thead>\n",
       "  <tbody>\n",
       "    <tr>\n",
       "      <th>0</th>\n",
       "      <td>14521</td>\n",
       "      <td>Oxy 10, 10gm</td>\n",
       "      <td>286.20</td>\n",
       "      <td>OXY</td>\n",
       "      <td>FACE MOISTURIZER &amp; DAY CREAM</td>\n",
       "    </tr>\n",
       "    <tr>\n",
       "      <th>1</th>\n",
       "      <td>12352</td>\n",
       "      <td>Make-Up Studio Brush Cleanser(Ph0900)</td>\n",
       "      <td>1785.00</td>\n",
       "      <td>MAKE-UP STUDIO</td>\n",
       "      <td>BRUSH SETS</td>\n",
       "    </tr>\n",
       "    <tr>\n",
       "      <th>2</th>\n",
       "      <td>11507</td>\n",
       "      <td>Buddsbuddy Silicone Orthodontic Pacifier (1pc)</td>\n",
       "      <td>169.15</td>\n",
       "      <td>BUDDSBUDDY</td>\n",
       "      <td>TEETHERS &amp; SOOTHERS</td>\n",
       "    </tr>\n",
       "    <tr>\n",
       "      <th>3</th>\n",
       "      <td>12401</td>\n",
       "      <td>Make-Up Studio Cream Blusher</td>\n",
       "      <td>2200.00</td>\n",
       "      <td>MAKE-UP STUDIO</td>\n",
       "      <td>BLUSH</td>\n",
       "    </tr>\n",
       "    <tr>\n",
       "      <th>4</th>\n",
       "      <td>14408</td>\n",
       "      <td>Set Wet Hair Gel Cool- 50 Ml</td>\n",
       "      <td>104.00</td>\n",
       "      <td>SET WET</td>\n",
       "      <td>HAIR GELS, WAXES, CREAMS, POMADES &amp; CLAYS</td>\n",
       "    </tr>\n",
       "  </tbody>\n",
       "</table>\n",
       "</div>"
      ],
      "text/plain": [
       "      id                                           title    price  \\\n",
       "0  14521                                    Oxy 10, 10gm   286.20   \n",
       "1  12352           Make-Up Studio Brush Cleanser(Ph0900)  1785.00   \n",
       "2  11507  Buddsbuddy Silicone Orthodontic Pacifier (1pc)   169.15   \n",
       "3  12401                    Make-Up Studio Cream Blusher  2200.00   \n",
       "4  14408                    Set Wet Hair Gel Cool- 50 Ml   104.00   \n",
       "\n",
       "            brand                                   category  \n",
       "0             OXY               FACE MOISTURIZER & DAY CREAM  \n",
       "1  MAKE-UP STUDIO                                 BRUSH SETS  \n",
       "2      BUDDSBUDDY                        TEETHERS & SOOTHERS  \n",
       "3  MAKE-UP STUDIO                                      BLUSH  \n",
       "4         SET WET  HAIR GELS, WAXES, CREAMS, POMADES & CLAYS  "
      ]
     },
     "execution_count": 27,
     "metadata": {},
     "output_type": "execute_result"
    }
   ],
   "source": [
    "items.head()"
   ]
  },
  {
   "cell_type": "code",
   "execution_count": 28,
   "id": "c3b1fea8",
   "metadata": {},
   "outputs": [],
   "source": [
    "items.to_csv(\"data/prepared_products.csv\", index=False)"
   ]
  },
  {
   "cell_type": "markdown",
   "id": "dea42294",
   "metadata": {},
   "source": [
    "### From here"
   ]
  },
  {
   "cell_type": "code",
   "execution_count": 29,
   "id": "34ce838e",
   "metadata": {},
   "outputs": [
    {
     "data": {
      "text/html": [
       "<div>\n",
       "<style scoped>\n",
       "    .dataframe tbody tr th:only-of-type {\n",
       "        vertical-align: middle;\n",
       "    }\n",
       "\n",
       "    .dataframe tbody tr th {\n",
       "        vertical-align: top;\n",
       "    }\n",
       "\n",
       "    .dataframe thead th {\n",
       "        text-align: right;\n",
       "    }\n",
       "</style>\n",
       "<table border=\"1\" class=\"dataframe\">\n",
       "  <thead>\n",
       "    <tr style=\"text-align: right;\">\n",
       "      <th></th>\n",
       "      <th>id</th>\n",
       "      <th>title</th>\n",
       "      <th>price</th>\n",
       "      <th>brand</th>\n",
       "      <th>category</th>\n",
       "    </tr>\n",
       "  </thead>\n",
       "  <tbody>\n",
       "    <tr>\n",
       "      <th>0</th>\n",
       "      <td>14521</td>\n",
       "      <td>Oxy 10, 10gm</td>\n",
       "      <td>286.20</td>\n",
       "      <td>OXY</td>\n",
       "      <td>FACE MOISTURIZER &amp; DAY CREAM</td>\n",
       "    </tr>\n",
       "    <tr>\n",
       "      <th>1</th>\n",
       "      <td>12352</td>\n",
       "      <td>Make-Up Studio Brush Cleanser(Ph0900)</td>\n",
       "      <td>1785.00</td>\n",
       "      <td>MAKE-UP STUDIO</td>\n",
       "      <td>BRUSH SETS</td>\n",
       "    </tr>\n",
       "    <tr>\n",
       "      <th>2</th>\n",
       "      <td>11507</td>\n",
       "      <td>Buddsbuddy Silicone Orthodontic Pacifier (1pc)</td>\n",
       "      <td>169.15</td>\n",
       "      <td>BUDDSBUDDY</td>\n",
       "      <td>TEETHERS &amp; SOOTHERS</td>\n",
       "    </tr>\n",
       "    <tr>\n",
       "      <th>3</th>\n",
       "      <td>12401</td>\n",
       "      <td>Make-Up Studio Cream Blusher</td>\n",
       "      <td>2200.00</td>\n",
       "      <td>MAKE-UP STUDIO</td>\n",
       "      <td>BLUSH</td>\n",
       "    </tr>\n",
       "    <tr>\n",
       "      <th>4</th>\n",
       "      <td>14408</td>\n",
       "      <td>Set Wet Hair Gel Cool- 50 Ml</td>\n",
       "      <td>104.00</td>\n",
       "      <td>SET WET</td>\n",
       "      <td>HAIR GELS, WAXES, CREAMS, POMADES &amp; CLAYS</td>\n",
       "    </tr>\n",
       "  </tbody>\n",
       "</table>\n",
       "</div>"
      ],
      "text/plain": [
       "      id                                           title    price  \\\n",
       "0  14521                                    Oxy 10, 10gm   286.20   \n",
       "1  12352           Make-Up Studio Brush Cleanser(Ph0900)  1785.00   \n",
       "2  11507  Buddsbuddy Silicone Orthodontic Pacifier (1pc)   169.15   \n",
       "3  12401                    Make-Up Studio Cream Blusher  2200.00   \n",
       "4  14408                    Set Wet Hair Gel Cool- 50 Ml   104.00   \n",
       "\n",
       "            brand                                   category  \n",
       "0             OXY               FACE MOISTURIZER & DAY CREAM  \n",
       "1  MAKE-UP STUDIO                                 BRUSH SETS  \n",
       "2      BUDDSBUDDY                        TEETHERS & SOOTHERS  \n",
       "3  MAKE-UP STUDIO                                      BLUSH  \n",
       "4         SET WET  HAIR GELS, WAXES, CREAMS, POMADES & CLAYS  "
      ]
     },
     "execution_count": 29,
     "metadata": {},
     "output_type": "execute_result"
    }
   ],
   "source": [
    "interaction_df = pd.read_csv(\"data/user_item_interactions.csv\")\n",
    "items_df = pd.read_csv(\"data/prepared_products.csv\")\n",
    "users_df = pd.read_csv(\"data/users.csv\")\n",
    "items_df.head()"
   ]
  },
  {
   "cell_type": "code",
   "execution_count": 30,
   "id": "06b3a2fb",
   "metadata": {},
   "outputs": [],
   "source": [
    "interaction_stage_df = interaction_df.copy()"
   ]
  },
  {
   "cell_type": "code",
   "execution_count": 31,
   "id": "1bb38323",
   "metadata": {},
   "outputs": [
    {
     "ename": "NameError",
     "evalue": "name 'np' is not defined",
     "output_type": "error",
     "traceback": [
      "\u001b[0;31m---------------------------------------------------------------------------\u001b[0m",
      "\u001b[0;31mNameError\u001b[0m                                 Traceback (most recent call last)",
      "Input \u001b[0;32mIn [31]\u001b[0m, in \u001b[0;36m<module>\u001b[0;34m\u001b[0m\n\u001b[1;32m      1\u001b[0m new_df \u001b[38;5;241m=\u001b[39m pd\u001b[38;5;241m.\u001b[39mmerge(interaction_stage_df, items_df, how\u001b[38;5;241m=\u001b[39m\u001b[38;5;124m'\u001b[39m\u001b[38;5;124mleft\u001b[39m\u001b[38;5;124m'\u001b[39m, left_on\u001b[38;5;241m=\u001b[39m\u001b[38;5;124m\"\u001b[39m\u001b[38;5;124mitem\u001b[39m\u001b[38;5;124m\"\u001b[39m, right_on\u001b[38;5;241m=\u001b[39m\u001b[38;5;124m\"\u001b[39m\u001b[38;5;124mid\u001b[39m\u001b[38;5;124m\"\u001b[39m,indicator\u001b[38;5;241m=\u001b[39m\u001b[38;5;124m\"\u001b[39m\u001b[38;5;124mExist\u001b[39m\u001b[38;5;124m\"\u001b[39m)\n\u001b[0;32m----> 2\u001b[0m new_df[\u001b[38;5;124m'\u001b[39m\u001b[38;5;124mExist\u001b[39m\u001b[38;5;124m'\u001b[39m] \u001b[38;5;241m=\u001b[39m \u001b[43mnp\u001b[49m\u001b[38;5;241m.\u001b[39mwhere(new_df\u001b[38;5;241m.\u001b[39mExist \u001b[38;5;241m==\u001b[39m \u001b[38;5;124m'\u001b[39m\u001b[38;5;124mboth\u001b[39m\u001b[38;5;124m'\u001b[39m, \u001b[38;5;28;01mTrue\u001b[39;00m, \u001b[38;5;28;01mFalse\u001b[39;00m)\n\u001b[1;32m      3\u001b[0m new_df \u001b[38;5;241m=\u001b[39m new_df[new_df[\u001b[38;5;124m'\u001b[39m\u001b[38;5;124mExist\u001b[39m\u001b[38;5;124m'\u001b[39m]\u001b[38;5;241m==\u001b[39m\u001b[38;5;28;01mTrue\u001b[39;00m]\u001b[38;5;241m.\u001b[39mdrop([\u001b[38;5;124m'\u001b[39m\u001b[38;5;124mExist\u001b[39m\u001b[38;5;124m'\u001b[39m], axis\u001b[38;5;241m=\u001b[39m\u001b[38;5;241m1\u001b[39m)\n\u001b[1;32m      4\u001b[0m new_df\u001b[38;5;241m.\u001b[39mshape\n",
      "\u001b[0;31mNameError\u001b[0m: name 'np' is not defined"
     ]
    }
   ],
   "source": [
    "new_df = pd.merge(interaction_stage_df, items_df, how='left', left_on=\"item\", right_on=\"id\",indicator=\"Exist\")\n",
    "new_df['Exist'] = np.where(new_df.Exist == 'both', True, False)\n",
    "new_df = new_df[new_df['Exist']==True].drop(['Exist'], axis=1)\n",
    "new_df.shape"
   ]
  },
  {
   "cell_type": "code",
   "execution_count": 32,
   "id": "a12a4341",
   "metadata": {},
   "outputs": [
    {
     "ename": "ValueError",
     "evalue": "Cannot use name of an existing column for indicator column",
     "output_type": "error",
     "traceback": [
      "\u001b[0;31m---------------------------------------------------------------------------\u001b[0m",
      "\u001b[0;31mValueError\u001b[0m                                Traceback (most recent call last)",
      "Input \u001b[0;32mIn [32]\u001b[0m, in \u001b[0;36m<module>\u001b[0;34m\u001b[0m\n\u001b[0;32m----> 1\u001b[0m df \u001b[38;5;241m=\u001b[39m \u001b[43mpd\u001b[49m\u001b[38;5;241;43m.\u001b[39;49m\u001b[43mmerge\u001b[49m\u001b[43m(\u001b[49m\u001b[43mnew_df\u001b[49m\u001b[43m,\u001b[49m\u001b[43m \u001b[49m\u001b[43musers_df\u001b[49m\u001b[43m,\u001b[49m\u001b[43m \u001b[49m\u001b[43mhow\u001b[49m\u001b[38;5;241;43m=\u001b[39;49m\u001b[38;5;124;43m'\u001b[39;49m\u001b[38;5;124;43mleft\u001b[39;49m\u001b[38;5;124;43m'\u001b[39;49m\u001b[43m,\u001b[49m\u001b[43m \u001b[49m\u001b[43mleft_on\u001b[49m\u001b[38;5;241;43m=\u001b[39;49m\u001b[38;5;124;43m\"\u001b[39;49m\u001b[38;5;124;43muser\u001b[39;49m\u001b[38;5;124;43m\"\u001b[39;49m\u001b[43m,\u001b[49m\u001b[43m \u001b[49m\u001b[43mright_on\u001b[49m\u001b[38;5;241;43m=\u001b[39;49m\u001b[38;5;124;43m\"\u001b[39;49m\u001b[38;5;124;43mid\u001b[39;49m\u001b[38;5;124;43m\"\u001b[39;49m\u001b[43m,\u001b[49m\u001b[43mindicator\u001b[49m\u001b[38;5;241;43m=\u001b[39;49m\u001b[38;5;124;43m\"\u001b[39;49m\u001b[38;5;124;43mExist\u001b[39;49m\u001b[38;5;124;43m\"\u001b[39;49m\u001b[43m)\u001b[49m\n\u001b[1;32m      2\u001b[0m df[\u001b[38;5;124m'\u001b[39m\u001b[38;5;124mExist\u001b[39m\u001b[38;5;124m'\u001b[39m] \u001b[38;5;241m=\u001b[39m np\u001b[38;5;241m.\u001b[39mwhere(df\u001b[38;5;241m.\u001b[39mExist \u001b[38;5;241m==\u001b[39m \u001b[38;5;124m'\u001b[39m\u001b[38;5;124mboth\u001b[39m\u001b[38;5;124m'\u001b[39m, \u001b[38;5;28;01mTrue\u001b[39;00m, \u001b[38;5;28;01mFalse\u001b[39;00m)\n\u001b[1;32m      3\u001b[0m df \u001b[38;5;241m=\u001b[39m df[df[\u001b[38;5;124m'\u001b[39m\u001b[38;5;124mExist\u001b[39m\u001b[38;5;124m'\u001b[39m]\u001b[38;5;241m==\u001b[39m\u001b[38;5;28;01mTrue\u001b[39;00m]\u001b[38;5;241m.\u001b[39mdrop([\u001b[38;5;124m'\u001b[39m\u001b[38;5;124mExist\u001b[39m\u001b[38;5;124m'\u001b[39m], axis\u001b[38;5;241m=\u001b[39m\u001b[38;5;241m1\u001b[39m)\n",
      "File \u001b[0;32m~/PycharmProjects/recommender-system/venv/lib/python3.9/site-packages/pandas/core/reshape/merge.py:122\u001b[0m, in \u001b[0;36mmerge\u001b[0;34m(left, right, how, on, left_on, right_on, left_index, right_index, sort, suffixes, copy, indicator, validate)\u001b[0m\n\u001b[1;32m     90\u001b[0m \u001b[38;5;129m@Substitution\u001b[39m(\u001b[38;5;124m\"\u001b[39m\u001b[38;5;130;01m\\n\u001b[39;00m\u001b[38;5;124mleft : DataFrame or named Series\u001b[39m\u001b[38;5;124m\"\u001b[39m)\n\u001b[1;32m     91\u001b[0m \u001b[38;5;129m@Appender\u001b[39m(_merge_doc, indents\u001b[38;5;241m=\u001b[39m\u001b[38;5;241m0\u001b[39m)\n\u001b[1;32m     92\u001b[0m \u001b[38;5;28;01mdef\u001b[39;00m \u001b[38;5;21mmerge\u001b[39m(\n\u001b[0;32m   (...)\u001b[0m\n\u001b[1;32m    105\u001b[0m     validate: \u001b[38;5;28mstr\u001b[39m \u001b[38;5;241m|\u001b[39m \u001b[38;5;28;01mNone\u001b[39;00m \u001b[38;5;241m=\u001b[39m \u001b[38;5;28;01mNone\u001b[39;00m,\n\u001b[1;32m    106\u001b[0m ) \u001b[38;5;241m-\u001b[39m\u001b[38;5;241m>\u001b[39m DataFrame:\n\u001b[1;32m    107\u001b[0m     op \u001b[38;5;241m=\u001b[39m _MergeOperation(\n\u001b[1;32m    108\u001b[0m         left,\n\u001b[1;32m    109\u001b[0m         right,\n\u001b[0;32m   (...)\u001b[0m\n\u001b[1;32m    120\u001b[0m         validate\u001b[38;5;241m=\u001b[39mvalidate,\n\u001b[1;32m    121\u001b[0m     )\n\u001b[0;32m--> 122\u001b[0m     \u001b[38;5;28;01mreturn\u001b[39;00m \u001b[43mop\u001b[49m\u001b[38;5;241;43m.\u001b[39;49m\u001b[43mget_result\u001b[49m\u001b[43m(\u001b[49m\u001b[43m)\u001b[49m\n",
      "File \u001b[0;32m~/PycharmProjects/recommender-system/venv/lib/python3.9/site-packages/pandas/core/reshape/merge.py:714\u001b[0m, in \u001b[0;36m_MergeOperation.get_result\u001b[0;34m(self)\u001b[0m\n\u001b[1;32m    712\u001b[0m \u001b[38;5;28;01mdef\u001b[39;00m \u001b[38;5;21mget_result\u001b[39m(\u001b[38;5;28mself\u001b[39m) \u001b[38;5;241m-\u001b[39m\u001b[38;5;241m>\u001b[39m DataFrame:\n\u001b[1;32m    713\u001b[0m     \u001b[38;5;28;01mif\u001b[39;00m \u001b[38;5;28mself\u001b[39m\u001b[38;5;241m.\u001b[39mindicator:\n\u001b[0;32m--> 714\u001b[0m         \u001b[38;5;28mself\u001b[39m\u001b[38;5;241m.\u001b[39mleft, \u001b[38;5;28mself\u001b[39m\u001b[38;5;241m.\u001b[39mright \u001b[38;5;241m=\u001b[39m \u001b[38;5;28;43mself\u001b[39;49m\u001b[38;5;241;43m.\u001b[39;49m\u001b[43m_indicator_pre_merge\u001b[49m\u001b[43m(\u001b[49m\u001b[38;5;28;43mself\u001b[39;49m\u001b[38;5;241;43m.\u001b[39;49m\u001b[43mleft\u001b[49m\u001b[43m,\u001b[49m\u001b[43m \u001b[49m\u001b[38;5;28;43mself\u001b[39;49m\u001b[38;5;241;43m.\u001b[39;49m\u001b[43mright\u001b[49m\u001b[43m)\u001b[49m\n\u001b[1;32m    716\u001b[0m     join_index, left_indexer, right_indexer \u001b[38;5;241m=\u001b[39m \u001b[38;5;28mself\u001b[39m\u001b[38;5;241m.\u001b[39m_get_join_info()\n\u001b[1;32m    718\u001b[0m     llabels, rlabels \u001b[38;5;241m=\u001b[39m _items_overlap_with_suffix(\n\u001b[1;32m    719\u001b[0m         \u001b[38;5;28mself\u001b[39m\u001b[38;5;241m.\u001b[39mleft\u001b[38;5;241m.\u001b[39m_info_axis, \u001b[38;5;28mself\u001b[39m\u001b[38;5;241m.\u001b[39mright\u001b[38;5;241m.\u001b[39m_info_axis, \u001b[38;5;28mself\u001b[39m\u001b[38;5;241m.\u001b[39msuffixes\n\u001b[1;32m    720\u001b[0m     )\n",
      "File \u001b[0;32m~/PycharmProjects/recommender-system/venv/lib/python3.9/site-packages/pandas/core/reshape/merge.py:765\u001b[0m, in \u001b[0;36m_MergeOperation._indicator_pre_merge\u001b[0;34m(self, left, right)\u001b[0m\n\u001b[1;32m    760\u001b[0m         \u001b[38;5;28;01mraise\u001b[39;00m \u001b[38;5;167;01mValueError\u001b[39;00m(\n\u001b[1;32m    761\u001b[0m             \u001b[38;5;124m\"\u001b[39m\u001b[38;5;124mCannot use `indicator=True` option when \u001b[39m\u001b[38;5;124m\"\u001b[39m\n\u001b[1;32m    762\u001b[0m             \u001b[38;5;124mf\u001b[39m\u001b[38;5;124m\"\u001b[39m\u001b[38;5;124mdata contains a column named \u001b[39m\u001b[38;5;132;01m{\u001b[39;00mi\u001b[38;5;132;01m}\u001b[39;00m\u001b[38;5;124m\"\u001b[39m\n\u001b[1;32m    763\u001b[0m         )\n\u001b[1;32m    764\u001b[0m \u001b[38;5;28;01mif\u001b[39;00m \u001b[38;5;28mself\u001b[39m\u001b[38;5;241m.\u001b[39mindicator_name \u001b[38;5;129;01min\u001b[39;00m columns:\n\u001b[0;32m--> 765\u001b[0m     \u001b[38;5;28;01mraise\u001b[39;00m \u001b[38;5;167;01mValueError\u001b[39;00m(\n\u001b[1;32m    766\u001b[0m         \u001b[38;5;124m\"\u001b[39m\u001b[38;5;124mCannot use name of an existing column for indicator column\u001b[39m\u001b[38;5;124m\"\u001b[39m\n\u001b[1;32m    767\u001b[0m     )\n\u001b[1;32m    769\u001b[0m left \u001b[38;5;241m=\u001b[39m left\u001b[38;5;241m.\u001b[39mcopy()\n\u001b[1;32m    770\u001b[0m right \u001b[38;5;241m=\u001b[39m right\u001b[38;5;241m.\u001b[39mcopy()\n",
      "\u001b[0;31mValueError\u001b[0m: Cannot use name of an existing column for indicator column"
     ]
    }
   ],
   "source": [
    "df = pd.merge(new_df, users_df, how='left', left_on=\"user\", right_on=\"id\",indicator=\"Exist\")\n",
    "df['Exist'] = np.where(df.Exist == 'both', True, False)\n",
    "df = df[df['Exist']==True].drop(['Exist'], axis=1)\n",
    "df.shape"
   ]
  },
  {
   "cell_type": "code",
   "execution_count": 33,
   "id": "bbef19ca",
   "metadata": {},
   "outputs": [
    {
     "data": {
      "text/html": [
       "<div>\n",
       "<style scoped>\n",
       "    .dataframe tbody tr th:only-of-type {\n",
       "        vertical-align: middle;\n",
       "    }\n",
       "\n",
       "    .dataframe tbody tr th {\n",
       "        vertical-align: top;\n",
       "    }\n",
       "\n",
       "    .dataframe thead th {\n",
       "        text-align: right;\n",
       "    }\n",
       "</style>\n",
       "<table border=\"1\" class=\"dataframe\">\n",
       "  <thead>\n",
       "    <tr style=\"text-align: right;\">\n",
       "      <th></th>\n",
       "      <th>user</th>\n",
       "      <th>item</th>\n",
       "      <th>rating</th>\n",
       "    </tr>\n",
       "  </thead>\n",
       "  <tbody>\n",
       "    <tr>\n",
       "      <th>0</th>\n",
       "      <td>385c310a-6863-408a-b9bd-a9bbb6ab69fc</td>\n",
       "      <td>1627</td>\n",
       "      <td>2</td>\n",
       "    </tr>\n",
       "    <tr>\n",
       "      <th>1</th>\n",
       "      <td>401586df-6908-4a16-88e2-c7173f55b529</td>\n",
       "      <td>19737</td>\n",
       "      <td>2</td>\n",
       "    </tr>\n",
       "    <tr>\n",
       "      <th>2</th>\n",
       "      <td>1b18c2e4-c227-4f41-81b5-d13f1817b3cb</td>\n",
       "      <td>3757</td>\n",
       "      <td>2</td>\n",
       "    </tr>\n",
       "    <tr>\n",
       "      <th>3</th>\n",
       "      <td>4779d5fb-e1d3-4fa7-b1cd-0aad70eeccfe</td>\n",
       "      <td>1264</td>\n",
       "      <td>2</td>\n",
       "    </tr>\n",
       "    <tr>\n",
       "      <th>4</th>\n",
       "      <td>c8053c5f-791e-4cd3-a79f-868847b26a9d</td>\n",
       "      <td>1143</td>\n",
       "      <td>2</td>\n",
       "    </tr>\n",
       "  </tbody>\n",
       "</table>\n",
       "</div>"
      ],
      "text/plain": [
       "                                   user   item  rating\n",
       "0  385c310a-6863-408a-b9bd-a9bbb6ab69fc   1627       2\n",
       "1  401586df-6908-4a16-88e2-c7173f55b529  19737       2\n",
       "2  1b18c2e4-c227-4f41-81b5-d13f1817b3cb   3757       2\n",
       "3  4779d5fb-e1d3-4fa7-b1cd-0aad70eeccfe   1264       2\n",
       "4  c8053c5f-791e-4cd3-a79f-868847b26a9d   1143       2"
      ]
     },
     "execution_count": 33,
     "metadata": {},
     "output_type": "execute_result"
    }
   ],
   "source": [
    "wishlist_df = pd.read_csv(\"data/wishlist.csv\")\n",
    "wishlist_df['rating'] = 2\n",
    "wishlist_df.head()"
   ]
  },
  {
   "cell_type": "code",
   "execution_count": 34,
   "id": "c332e026",
   "metadata": {},
   "outputs": [
    {
     "ename": "NameError",
     "evalue": "name 'df' is not defined",
     "output_type": "error",
     "traceback": [
      "\u001b[0;31m---------------------------------------------------------------------------\u001b[0m",
      "\u001b[0;31mNameError\u001b[0m                                 Traceback (most recent call last)",
      "Input \u001b[0;32mIn [34]\u001b[0m, in \u001b[0;36m<module>\u001b[0;34m\u001b[0m\n\u001b[0;32m----> 1\u001b[0m df[\u001b[38;5;124m'\u001b[39m\u001b[38;5;124mrating\u001b[39m\u001b[38;5;124m'\u001b[39m] \u001b[38;5;241m=\u001b[39m \u001b[43mdf\u001b[49m\u001b[38;5;241m.\u001b[39mrating\u001b[38;5;241m.\u001b[39mapply(\u001b[38;5;28;01mlambda\u001b[39;00m x: \u001b[38;5;241m3\u001b[39m \u001b[38;5;28;01mif\u001b[39;00m x\u001b[38;5;241m==\u001b[39m\u001b[38;5;241m2\u001b[39m \u001b[38;5;28;01melse\u001b[39;00m \u001b[38;5;241m1\u001b[39m)\n",
      "\u001b[0;31mNameError\u001b[0m: name 'df' is not defined"
     ]
    }
   ],
   "source": [
    "df['rating'] = df.rating.apply(lambda x: 3 if x==2 else 1)"
   ]
  },
  {
   "cell_type": "code",
   "execution_count": 35,
   "id": "e13b411c",
   "metadata": {},
   "outputs": [
    {
     "ename": "NameError",
     "evalue": "name 'df' is not defined",
     "output_type": "error",
     "traceback": [
      "\u001b[0;31m---------------------------------------------------------------------------\u001b[0m",
      "\u001b[0;31mNameError\u001b[0m                                 Traceback (most recent call last)",
      "Input \u001b[0;32mIn [35]\u001b[0m, in \u001b[0;36m<module>\u001b[0;34m\u001b[0m\n\u001b[0;32m----> 1\u001b[0m df \u001b[38;5;241m=\u001b[39m \u001b[43mdf\u001b[49m\u001b[38;5;241m.\u001b[39mappend(wishlist_df)\n",
      "\u001b[0;31mNameError\u001b[0m: name 'df' is not defined"
     ]
    }
   ],
   "source": [
    "df = df.append(wishlist_df)"
   ]
  },
  {
   "cell_type": "code",
   "execution_count": 36,
   "id": "981bba2e",
   "metadata": {},
   "outputs": [
    {
     "ename": "NameError",
     "evalue": "name 'df_w' is not defined",
     "output_type": "error",
     "traceback": [
      "\u001b[0;31m---------------------------------------------------------------------------\u001b[0m",
      "\u001b[0;31mNameError\u001b[0m                                 Traceback (most recent call last)",
      "Input \u001b[0;32mIn [36]\u001b[0m, in \u001b[0;36m<module>\u001b[0;34m\u001b[0m\n\u001b[0;32m----> 1\u001b[0m df_final \u001b[38;5;241m=\u001b[39m pd\u001b[38;5;241m.\u001b[39mmerge(\u001b[43mdf_w\u001b[49m, users_df, how\u001b[38;5;241m=\u001b[39m\u001b[38;5;124m'\u001b[39m\u001b[38;5;124mleft\u001b[39m\u001b[38;5;124m'\u001b[39m, left_on\u001b[38;5;241m=\u001b[39m\u001b[38;5;124m\"\u001b[39m\u001b[38;5;124muser\u001b[39m\u001b[38;5;124m\"\u001b[39m, right_on\u001b[38;5;241m=\u001b[39m\u001b[38;5;124m\"\u001b[39m\u001b[38;5;124mid\u001b[39m\u001b[38;5;124m\"\u001b[39m,indicator\u001b[38;5;241m=\u001b[39m\u001b[38;5;124m\"\u001b[39m\u001b[38;5;124mExist\u001b[39m\u001b[38;5;124m\"\u001b[39m)\n\u001b[1;32m      2\u001b[0m df_final[\u001b[38;5;124m'\u001b[39m\u001b[38;5;124mExist\u001b[39m\u001b[38;5;124m'\u001b[39m] \u001b[38;5;241m=\u001b[39m np\u001b[38;5;241m.\u001b[39mwhere(df_final\u001b[38;5;241m.\u001b[39mExist \u001b[38;5;241m==\u001b[39m \u001b[38;5;124m'\u001b[39m\u001b[38;5;124mboth\u001b[39m\u001b[38;5;124m'\u001b[39m, \u001b[38;5;28;01mTrue\u001b[39;00m, \u001b[38;5;28;01mFalse\u001b[39;00m)\n\u001b[1;32m      3\u001b[0m df_final \u001b[38;5;241m=\u001b[39m df_final[df_final[\u001b[38;5;124m'\u001b[39m\u001b[38;5;124mExist\u001b[39m\u001b[38;5;124m'\u001b[39m]\u001b[38;5;241m==\u001b[39m\u001b[38;5;28;01mTrue\u001b[39;00m]\u001b[38;5;241m.\u001b[39mdrop([\u001b[38;5;124m'\u001b[39m\u001b[38;5;124mExist\u001b[39m\u001b[38;5;124m'\u001b[39m], axis\u001b[38;5;241m=\u001b[39m\u001b[38;5;241m1\u001b[39m)\n",
      "\u001b[0;31mNameError\u001b[0m: name 'df_w' is not defined"
     ]
    }
   ],
   "source": [
    "df_final = pd.merge(df_w, users_df, how='left', left_on=\"user\", right_on=\"id\",indicator=\"Exist\")\n",
    "df_final['Exist'] = np.where(df_final.Exist == 'both', True, False)\n",
    "df_final = df_final[df_final['Exist']==True].drop(['Exist'], axis=1)\n",
    "df_final.shape"
   ]
  },
  {
   "cell_type": "code",
   "execution_count": 37,
   "id": "c9bb72a0",
   "metadata": {},
   "outputs": [
    {
     "ename": "NameError",
     "evalue": "name 'df_final' is not defined",
     "output_type": "error",
     "traceback": [
      "\u001b[0;31m---------------------------------------------------------------------------\u001b[0m",
      "\u001b[0;31mNameError\u001b[0m                                 Traceback (most recent call last)",
      "Input \u001b[0;32mIn [37]\u001b[0m, in \u001b[0;36m<module>\u001b[0;34m\u001b[0m\n\u001b[0;32m----> 1\u001b[0m df_final \u001b[38;5;241m=\u001b[39m \u001b[43mdf_final\u001b[49m[[\u001b[38;5;124m'\u001b[39m\u001b[38;5;124muser\u001b[39m\u001b[38;5;124m'\u001b[39m, \u001b[38;5;124m'\u001b[39m\u001b[38;5;124mitem\u001b[39m\u001b[38;5;124m'\u001b[39m, \u001b[38;5;124m'\u001b[39m\u001b[38;5;124mrating\u001b[39m\u001b[38;5;124m'\u001b[39m]]\n\u001b[1;32m      2\u001b[0m df_final\u001b[38;5;241m.\u001b[39mshape\n",
      "\u001b[0;31mNameError\u001b[0m: name 'df_final' is not defined"
     ]
    }
   ],
   "source": [
    "df_final = df_final[['user', 'item', 'rating']]\n",
    "df_final.shape"
   ]
  }
 ],
 "metadata": {
  "kernelspec": {
   "display_name": "Python 3 (ipykernel)",
   "language": "python",
   "name": "python3"
  },
  "language_info": {
   "codemirror_mode": {
    "name": "ipython",
    "version": 3
   },
   "file_extension": ".py",
   "mimetype": "text/x-python",
   "name": "python",
   "nbconvert_exporter": "python",
   "pygments_lexer": "ipython3",
   "version": "3.9.10"
  }
 },
 "nbformat": 4,
 "nbformat_minor": 5
}
