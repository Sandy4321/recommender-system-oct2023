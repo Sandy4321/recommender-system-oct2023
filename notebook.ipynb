{
 "cells": [
  {
   "cell_type": "code",
   "execution_count": 46,
   "id": "8ff19632",
   "metadata": {},
   "outputs": [],
   "source": [
    "import pandas as pd\n",
    "import joblib"
   ]
  },
  {
   "cell_type": "code",
   "execution_count": 8,
   "id": "460dc236",
   "metadata": {},
   "outputs": [
    {
     "data": {
      "text/html": [
       "<div>\n",
       "<style scoped>\n",
       "    .dataframe tbody tr th:only-of-type {\n",
       "        vertical-align: middle;\n",
       "    }\n",
       "\n",
       "    .dataframe tbody tr th {\n",
       "        vertical-align: top;\n",
       "    }\n",
       "\n",
       "    .dataframe thead th {\n",
       "        text-align: right;\n",
       "    }\n",
       "</style>\n",
       "<table border=\"1\" class=\"dataframe\">\n",
       "  <thead>\n",
       "    <tr style=\"text-align: right;\">\n",
       "      <th></th>\n",
       "      <th>item_id</th>\n",
       "      <th>user_id</th>\n",
       "      <th>timestamp</th>\n",
       "      <th>click</th>\n",
       "      <th>purchase</th>\n",
       "    </tr>\n",
       "  </thead>\n",
       "  <tbody>\n",
       "    <tr>\n",
       "      <th>0</th>\n",
       "      <td>6198</td>\n",
       "      <td>36c0daa2-5aad-4b0c-81e3-8d276b223573</td>\n",
       "      <td>1633082142</td>\n",
       "      <td>1</td>\n",
       "      <td>0</td>\n",
       "    </tr>\n",
       "    <tr>\n",
       "      <th>1</th>\n",
       "      <td>190</td>\n",
       "      <td>c9a9b40a-90ce-42c7-8b02-1301ad4914b1</td>\n",
       "      <td>1630125341</td>\n",
       "      <td>1</td>\n",
       "      <td>0</td>\n",
       "    </tr>\n",
       "    <tr>\n",
       "      <th>2</th>\n",
       "      <td>7330</td>\n",
       "      <td>83969882-083c-4150-b9eb-19bb3197720d</td>\n",
       "      <td>1630143229</td>\n",
       "      <td>1</td>\n",
       "      <td>0</td>\n",
       "    </tr>\n",
       "    <tr>\n",
       "      <th>3</th>\n",
       "      <td>8978</td>\n",
       "      <td>83969882-083c-4150-b9eb-19bb3197720d</td>\n",
       "      <td>1630143685</td>\n",
       "      <td>1</td>\n",
       "      <td>0</td>\n",
       "    </tr>\n",
       "    <tr>\n",
       "      <th>4</th>\n",
       "      <td>9263</td>\n",
       "      <td>83969882-083c-4150-b9eb-19bb3197720d</td>\n",
       "      <td>1630143781</td>\n",
       "      <td>1</td>\n",
       "      <td>0</td>\n",
       "    </tr>\n",
       "  </tbody>\n",
       "</table>\n",
       "</div>"
      ],
      "text/plain": [
       "   item_id                               user_id   timestamp  click  purchase\n",
       "0     6198  36c0daa2-5aad-4b0c-81e3-8d276b223573  1633082142      1         0\n",
       "1      190  c9a9b40a-90ce-42c7-8b02-1301ad4914b1  1630125341      1         0\n",
       "2     7330  83969882-083c-4150-b9eb-19bb3197720d  1630143229      1         0\n",
       "3     8978  83969882-083c-4150-b9eb-19bb3197720d  1630143685      1         0\n",
       "4     9263  83969882-083c-4150-b9eb-19bb3197720d  1630143781      1         0"
      ]
     },
     "execution_count": 8,
     "metadata": {},
     "output_type": "execute_result"
    }
   ],
   "source": [
    "interaction_df = pd.read_csv(\"data/user_item_interactions.csv\")\n",
    "interaction_df.head()"
   ]
  },
  {
   "cell_type": "code",
   "execution_count": 16,
   "id": "dc2659cd",
   "metadata": {},
   "outputs": [
    {
     "data": {
      "text/html": [
       "<div>\n",
       "<style scoped>\n",
       "    .dataframe tbody tr th:only-of-type {\n",
       "        vertical-align: middle;\n",
       "    }\n",
       "\n",
       "    .dataframe tbody tr th {\n",
       "        vertical-align: top;\n",
       "    }\n",
       "\n",
       "    .dataframe thead th {\n",
       "        text-align: right;\n",
       "    }\n",
       "</style>\n",
       "<table border=\"1\" class=\"dataframe\">\n",
       "  <thead>\n",
       "    <tr style=\"text-align: right;\">\n",
       "      <th></th>\n",
       "      <th>item_id</th>\n",
       "      <th>user_id</th>\n",
       "      <th>timestamp</th>\n",
       "      <th>click</th>\n",
       "      <th>purchase</th>\n",
       "      <th>rating</th>\n",
       "    </tr>\n",
       "  </thead>\n",
       "  <tbody>\n",
       "    <tr>\n",
       "      <th>0</th>\n",
       "      <td>6198</td>\n",
       "      <td>36c0daa2-5aad-4b0c-81e3-8d276b223573</td>\n",
       "      <td>1633082142</td>\n",
       "      <td>1</td>\n",
       "      <td>0</td>\n",
       "      <td>1</td>\n",
       "    </tr>\n",
       "    <tr>\n",
       "      <th>1</th>\n",
       "      <td>190</td>\n",
       "      <td>c9a9b40a-90ce-42c7-8b02-1301ad4914b1</td>\n",
       "      <td>1630125341</td>\n",
       "      <td>1</td>\n",
       "      <td>0</td>\n",
       "      <td>1</td>\n",
       "    </tr>\n",
       "    <tr>\n",
       "      <th>2</th>\n",
       "      <td>7330</td>\n",
       "      <td>83969882-083c-4150-b9eb-19bb3197720d</td>\n",
       "      <td>1630143229</td>\n",
       "      <td>1</td>\n",
       "      <td>0</td>\n",
       "      <td>1</td>\n",
       "    </tr>\n",
       "    <tr>\n",
       "      <th>3</th>\n",
       "      <td>8978</td>\n",
       "      <td>83969882-083c-4150-b9eb-19bb3197720d</td>\n",
       "      <td>1630143685</td>\n",
       "      <td>1</td>\n",
       "      <td>0</td>\n",
       "      <td>1</td>\n",
       "    </tr>\n",
       "    <tr>\n",
       "      <th>4</th>\n",
       "      <td>9263</td>\n",
       "      <td>83969882-083c-4150-b9eb-19bb3197720d</td>\n",
       "      <td>1630143781</td>\n",
       "      <td>1</td>\n",
       "      <td>0</td>\n",
       "      <td>1</td>\n",
       "    </tr>\n",
       "  </tbody>\n",
       "</table>\n",
       "</div>"
      ],
      "text/plain": [
       "   item_id                               user_id   timestamp  click  purchase  \\\n",
       "0     6198  36c0daa2-5aad-4b0c-81e3-8d276b223573  1633082142      1         0   \n",
       "1      190  c9a9b40a-90ce-42c7-8b02-1301ad4914b1  1630125341      1         0   \n",
       "2     7330  83969882-083c-4150-b9eb-19bb3197720d  1630143229      1         0   \n",
       "3     8978  83969882-083c-4150-b9eb-19bb3197720d  1630143685      1         0   \n",
       "4     9263  83969882-083c-4150-b9eb-19bb3197720d  1630143781      1         0   \n",
       "\n",
       "   rating  \n",
       "0       1  \n",
       "1       1  \n",
       "2       1  \n",
       "3       1  \n",
       "4       1  "
      ]
     },
     "execution_count": 16,
     "metadata": {},
     "output_type": "execute_result"
    }
   ],
   "source": [
    "interaction = interaction_df.copy()\n",
    "interaction['purchase'] = interaction['purchase'].apply(lambda x: 2 if x==1 else 0)\n",
    "interaction['rating'] = interaction['purchase'] + interaction['click']\n",
    "interaction.head()"
   ]
  },
  {
   "cell_type": "code",
   "execution_count": 21,
   "id": "233450d5",
   "metadata": {},
   "outputs": [
    {
     "data": {
      "text/html": [
       "<div>\n",
       "<style scoped>\n",
       "    .dataframe tbody tr th:only-of-type {\n",
       "        vertical-align: middle;\n",
       "    }\n",
       "\n",
       "    .dataframe tbody tr th {\n",
       "        vertical-align: top;\n",
       "    }\n",
       "\n",
       "    .dataframe thead th {\n",
       "        text-align: right;\n",
       "    }\n",
       "</style>\n",
       "<table border=\"1\" class=\"dataframe\">\n",
       "  <thead>\n",
       "    <tr style=\"text-align: right;\">\n",
       "      <th></th>\n",
       "      <th>user</th>\n",
       "      <th>item</th>\n",
       "      <th>rating</th>\n",
       "      <th>timestamp</th>\n",
       "    </tr>\n",
       "  </thead>\n",
       "  <tbody>\n",
       "    <tr>\n",
       "      <th>0</th>\n",
       "      <td>36c0daa2-5aad-4b0c-81e3-8d276b223573</td>\n",
       "      <td>6198</td>\n",
       "      <td>1</td>\n",
       "      <td>1633082142</td>\n",
       "    </tr>\n",
       "    <tr>\n",
       "      <th>1</th>\n",
       "      <td>c9a9b40a-90ce-42c7-8b02-1301ad4914b1</td>\n",
       "      <td>190</td>\n",
       "      <td>1</td>\n",
       "      <td>1630125341</td>\n",
       "    </tr>\n",
       "    <tr>\n",
       "      <th>2</th>\n",
       "      <td>83969882-083c-4150-b9eb-19bb3197720d</td>\n",
       "      <td>7330</td>\n",
       "      <td>1</td>\n",
       "      <td>1630143229</td>\n",
       "    </tr>\n",
       "    <tr>\n",
       "      <th>3</th>\n",
       "      <td>83969882-083c-4150-b9eb-19bb3197720d</td>\n",
       "      <td>8978</td>\n",
       "      <td>1</td>\n",
       "      <td>1630143685</td>\n",
       "    </tr>\n",
       "    <tr>\n",
       "      <th>4</th>\n",
       "      <td>83969882-083c-4150-b9eb-19bb3197720d</td>\n",
       "      <td>9263</td>\n",
       "      <td>1</td>\n",
       "      <td>1630143781</td>\n",
       "    </tr>\n",
       "  </tbody>\n",
       "</table>\n",
       "</div>"
      ],
      "text/plain": [
       "                                   user  item  rating   timestamp\n",
       "0  36c0daa2-5aad-4b0c-81e3-8d276b223573  6198       1  1633082142\n",
       "1  c9a9b40a-90ce-42c7-8b02-1301ad4914b1   190       1  1630125341\n",
       "2  83969882-083c-4150-b9eb-19bb3197720d  7330       1  1630143229\n",
       "3  83969882-083c-4150-b9eb-19bb3197720d  8978       1  1630143685\n",
       "4  83969882-083c-4150-b9eb-19bb3197720d  9263       1  1630143781"
      ]
     },
     "execution_count": 21,
     "metadata": {},
     "output_type": "execute_result"
    }
   ],
   "source": [
    "dataset = pd.DataFrame()\n",
    "dataset['user'] = interaction['user_id']\n",
    "dataset['item'] = interaction['item_id']\n",
    "dataset['rating'] = interaction['rating']\n",
    "dataset['timestamp'] = interaction['timestamp']\n",
    "dataset.head()"
   ]
  },
  {
   "cell_type": "code",
   "execution_count": 68,
   "id": "28d414b6",
   "metadata": {},
   "outputs": [],
   "source": [
    "dataset.to_csv('data/user_item_interactions.csv', index=False)"
   ]
  },
  {
   "cell_type": "markdown",
   "id": "b9732d03",
   "metadata": {},
   "source": [
    "### N-Recommended Products"
   ]
  },
  {
   "cell_type": "code",
   "execution_count": 47,
   "id": "19e1a3c2",
   "metadata": {},
   "outputs": [
    {
     "name": "stdout",
     "output_type": "stream",
     "text": [
      "RMSE: 0.1775\n",
      "RMSE: 0.1789\n",
      "RMSE: 0.1742\n",
      "RMSE: 0.1774\n",
      "RMSE: 0.1766\n",
      "RMSE: 0.1762\n",
      "RMSE: 0.1763\n",
      "RMSE: 0.1747\n",
      "RMSE: 0.1759\n",
      "RMSE: 0.1766\n"
     ]
    }
   ],
   "source": [
    "from surprise import KNNBaseline\n",
    "from surprise import Dataset\n",
    "from surprise import accuracy\n",
    "from surprise import Reader\n",
    "import os\n",
    "from surprise.model_selection import train_test_split\n",
    "from surprise.model_selection import KFold\n",
    "from surprise import SVD\n",
    "\n",
    "\n",
    "reader = Reader(rating_scale=(1, 2))\n",
    "data = Dataset.load_from_df(df=dataset[['user', 'item', 'rating']], reader=reader)\n",
    "\n",
    "kf = KFold(n_splits=10)\n",
    "\n",
    "svd = SVD()\n",
    "\n",
    "for trainset, testset in kf.split(data):\n",
    "    svd.fit(trainset)\n",
    "    predictions = svd.test(testset)\n",
    "    accuracy.rmse(predictions, verbose=True)"
   ]
  },
  {
   "cell_type": "code",
   "execution_count": 66,
   "id": "d9eb7cd8",
   "metadata": {},
   "outputs": [],
   "source": [
    "from collections import defaultdict\n",
    "import json\n",
    "def get_top_n(predictions, n=10):\n",
    "    \"\"\"Return the top-N recommendation for each user from a set of predictions.\n",
    "    Args:\n",
    "        predictions(list of Prediction objects): The list of predictions, as\n",
    "            returned by the test method of an algorithm.\n",
    "        n(int): The number of recommendation to output for each user. Default\n",
    "            is 10.\n",
    "    Returns:\n",
    "    A dict where keys are user (raw) ids and values are lists of tuples:\n",
    "        [(raw item id, rating estimation), ...] of size n.\n",
    "    \"\"\"\n",
    "\n",
    "    # First map the predictions to each user.\n",
    "    top_n = defaultdict(list)\n",
    "    for uid, iid, true_r, est, _ in predictions:\n",
    "        top_n[uid].append((iid, est))\n",
    "\n",
    "    # Then sort the predictions for each user and retrieve the k highest ones.\n",
    "    for uid, user_ratings in top_n.items():\n",
    "        user_ratings.sort(key=lambda x: x[1], reverse=True)\n",
    "        top_n[uid] = user_ratings[:n]\n",
    "\n",
    "    return top_n\n",
    "\n",
    "top_n = get_top_n(predictions, n=10)\n",
    "result = {}\n",
    "for uid, user_ratings in top_n.items():\n",
    "    result[uid] = [iid for (iid, _) in user_ratings]\n",
    "with open(\"result.json\", \"w\") as f:\n",
    "    f.write(json.dumps(result))"
   ]
  },
  {
   "cell_type": "code",
   "execution_count": 51,
   "id": "bcbc7596",
   "metadata": {},
   "outputs": [
    {
     "data": {
      "text/plain": [
       "['svd.joblib']"
      ]
     },
     "execution_count": 51,
     "metadata": {},
     "output_type": "execute_result"
    }
   ],
   "source": [
    "joblib.dump(svd,'svd.joblib')"
   ]
  },
  {
   "cell_type": "markdown",
   "id": "29a65f44",
   "metadata": {},
   "source": [
    "### K-Similar Items"
   ]
  },
  {
   "cell_type": "code",
   "execution_count": 43,
   "id": "0b3c9640",
   "metadata": {},
   "outputs": [
    {
     "name": "stdout",
     "output_type": "stream",
     "text": [
      "Estimating biases using als...\n",
      "Computing the pearson_baseline similarity matrix...\n",
      "Done computing similarity matrix.\n"
     ]
    },
    {
     "data": {
      "text/plain": [
       "<surprise.prediction_algorithms.knns.KNNBaseline at 0x1203a4f40>"
      ]
     },
     "execution_count": 43,
     "metadata": {},
     "output_type": "execute_result"
    }
   ],
   "source": [
    "trainset = data.build_full_trainset()\n",
    "sim_options = {'name': 'pearson_baseline', 'user_based': False}\n",
    "knn = KNNBaseline(sim_options=sim_options)\n",
    "knn.fit(trainset)"
   ]
  },
  {
   "cell_type": "code",
   "execution_count": 44,
   "id": "9a9793bf",
   "metadata": {},
   "outputs": [
    {
     "name": "stdout",
     "output_type": "stream",
     "text": [
      "RMSE: 0.0465\n"
     ]
    },
    {
     "data": {
      "text/plain": [
       "0.046461337102403036"
      ]
     },
     "execution_count": 44,
     "metadata": {},
     "output_type": "execute_result"
    }
   ],
   "source": [
    "testset = trainset.build_testset()\n",
    "predictions = knn.test(testset)\n",
    "accuracy.rmse(predictions, verbose=True)"
   ]
  },
  {
   "cell_type": "code",
   "execution_count": 48,
   "id": "3d7dc90b",
   "metadata": {},
   "outputs": [
    {
     "data": {
      "text/plain": [
       "[689, 735, 67, 3104, 365, 688, 2414, 3107, 6947, 1202]"
      ]
     },
     "execution_count": 48,
     "metadata": {},
     "output_type": "execute_result"
    }
   ],
   "source": [
    "knn.get_neighbors(456, k=10)"
   ]
  },
  {
   "cell_type": "code",
   "execution_count": 93,
   "id": "3c42cfcc",
   "metadata": {},
   "outputs": [
    {
     "data": {
      "text/plain": [
       "['knn.joblib']"
      ]
     },
     "execution_count": 93,
     "metadata": {},
     "output_type": "execute_result"
    }
   ],
   "source": [
    "joblib.dump(knn, 'knn.joblib')"
   ]
  },
  {
   "cell_type": "code",
   "execution_count": 94,
   "id": "d44ecdfc",
   "metadata": {},
   "outputs": [
    {
     "data": {
      "text/plain": [
       "[689, 735, 67, 3104, 365, 688, 2414, 3107, 6947, 1202]"
      ]
     },
     "execution_count": 94,
     "metadata": {},
     "output_type": "execute_result"
    }
   ],
   "source": [
    "model = joblib.load('knn.joblib')\n",
    "model.get_neighbors(456, k=10)"
   ]
  },
  {
   "cell_type": "markdown",
   "id": "140c4167",
   "metadata": {},
   "source": [
    "### Popular Recommended Products"
   ]
  },
  {
   "cell_type": "code",
   "execution_count": 92,
   "id": "6d05cd4c",
   "metadata": {},
   "outputs": [
    {
     "data": {
      "text/html": [
       "<div>\n",
       "<style scoped>\n",
       "    .dataframe tbody tr th:only-of-type {\n",
       "        vertical-align: middle;\n",
       "    }\n",
       "\n",
       "    .dataframe tbody tr th {\n",
       "        vertical-align: top;\n",
       "    }\n",
       "\n",
       "    .dataframe thead th {\n",
       "        text-align: right;\n",
       "    }\n",
       "</style>\n",
       "<table border=\"1\" class=\"dataframe\">\n",
       "  <thead>\n",
       "    <tr style=\"text-align: right;\">\n",
       "      <th></th>\n",
       "      <th>item</th>\n",
       "      <th>0</th>\n",
       "      <th>count</th>\n",
       "    </tr>\n",
       "  </thead>\n",
       "  <tbody>\n",
       "    <tr>\n",
       "      <th>2511</th>\n",
       "      <td>2719</td>\n",
       "      <td>3409</td>\n",
       "      <td>3409</td>\n",
       "    </tr>\n",
       "    <tr>\n",
       "      <th>3188</th>\n",
       "      <td>3589</td>\n",
       "      <td>3081</td>\n",
       "      <td>3081</td>\n",
       "    </tr>\n",
       "    <tr>\n",
       "      <th>7610</th>\n",
       "      <td>8978</td>\n",
       "      <td>2867</td>\n",
       "      <td>2867</td>\n",
       "    </tr>\n",
       "    <tr>\n",
       "      <th>2845</th>\n",
       "      <td>3082</td>\n",
       "      <td>2612</td>\n",
       "      <td>2612</td>\n",
       "    </tr>\n",
       "    <tr>\n",
       "      <th>1451</th>\n",
       "      <td>1547</td>\n",
       "      <td>2075</td>\n",
       "      <td>2075</td>\n",
       "    </tr>\n",
       "    <tr>\n",
       "      <th>2509</th>\n",
       "      <td>2717</td>\n",
       "      <td>1842</td>\n",
       "      <td>1842</td>\n",
       "    </tr>\n",
       "    <tr>\n",
       "      <th>10290</th>\n",
       "      <td>13400</td>\n",
       "      <td>1569</td>\n",
       "      <td>1569</td>\n",
       "    </tr>\n",
       "    <tr>\n",
       "      <th>1188</th>\n",
       "      <td>1264</td>\n",
       "      <td>1489</td>\n",
       "      <td>1489</td>\n",
       "    </tr>\n",
       "    <tr>\n",
       "      <th>717</th>\n",
       "      <td>761</td>\n",
       "      <td>1467</td>\n",
       "      <td>1467</td>\n",
       "    </tr>\n",
       "    <tr>\n",
       "      <th>176</th>\n",
       "      <td>189</td>\n",
       "      <td>1458</td>\n",
       "      <td>1458</td>\n",
       "    </tr>\n",
       "  </tbody>\n",
       "</table>\n",
       "</div>"
      ],
      "text/plain": [
       "        item     0  count\n",
       "2511    2719  3409   3409\n",
       "3188    3589  3081   3081\n",
       "7610    8978  2867   2867\n",
       "2845    3082  2612   2612\n",
       "1451    1547  2075   2075\n",
       "2509    2717  1842   1842\n",
       "10290  13400  1569   1569\n",
       "1188    1264  1489   1489\n",
       "717      761  1467   1467\n",
       "176      189  1458   1458"
      ]
     },
     "execution_count": 92,
     "metadata": {},
     "output_type": "execute_result"
    }
   ],
   "source": [
    "popular_items = dataset.groupby(['item']).size().reset_index()\n",
    "popular_items['count'] = popular_items[0]\n",
    "popular_items.sort_values(by='count', ascending=False).head(10)\n",
    "# popular_items[0]"
   ]
  },
  {
   "cell_type": "code",
   "execution_count": 91,
   "id": "d0381227",
   "metadata": {},
   "outputs": [
    {
     "data": {
      "text/html": [
       "<div>\n",
       "<style scoped>\n",
       "    .dataframe tbody tr th:only-of-type {\n",
       "        vertical-align: middle;\n",
       "    }\n",
       "\n",
       "    .dataframe tbody tr th {\n",
       "        vertical-align: top;\n",
       "    }\n",
       "\n",
       "    .dataframe thead th {\n",
       "        text-align: right;\n",
       "    }\n",
       "</style>\n",
       "<table border=\"1\" class=\"dataframe\">\n",
       "  <thead>\n",
       "    <tr style=\"text-align: right;\">\n",
       "      <th></th>\n",
       "      <th>user</th>\n",
       "      <th>item</th>\n",
       "      <th>rating</th>\n",
       "      <th>timestamp</th>\n",
       "    </tr>\n",
       "  </thead>\n",
       "  <tbody>\n",
       "    <tr>\n",
       "      <th>581</th>\n",
       "      <td>689e1169-d896-4523-8a97-c70649763e67</td>\n",
       "      <td>2719</td>\n",
       "      <td>1</td>\n",
       "      <td>1629074397</td>\n",
       "    </tr>\n",
       "    <tr>\n",
       "      <th>583</th>\n",
       "      <td>d7d13b02-7da2-475c-ba5b-698833c87ef9</td>\n",
       "      <td>2719</td>\n",
       "      <td>1</td>\n",
       "      <td>1629100051</td>\n",
       "    </tr>\n",
       "    <tr>\n",
       "      <th>642</th>\n",
       "      <td>689e1169-d896-4523-8a97-c70649763e67</td>\n",
       "      <td>2719</td>\n",
       "      <td>1</td>\n",
       "      <td>1629419326</td>\n",
       "    </tr>\n",
       "    <tr>\n",
       "      <th>1233</th>\n",
       "      <td>ef5a9bc2-fbcb-4466-a887-70dce4e7cf85</td>\n",
       "      <td>2719</td>\n",
       "      <td>1</td>\n",
       "      <td>1631925066</td>\n",
       "    </tr>\n",
       "    <tr>\n",
       "      <th>1295</th>\n",
       "      <td>11e464cf-31c0-4968-ae4d-188ee0aa8664</td>\n",
       "      <td>2719</td>\n",
       "      <td>1</td>\n",
       "      <td>1632423279</td>\n",
       "    </tr>\n",
       "    <tr>\n",
       "      <th>...</th>\n",
       "      <td>...</td>\n",
       "      <td>...</td>\n",
       "      <td>...</td>\n",
       "      <td>...</td>\n",
       "    </tr>\n",
       "    <tr>\n",
       "      <th>529308</th>\n",
       "      <td>3c4d0011-f473-44fa-9b65-e9118a51a955</td>\n",
       "      <td>2719</td>\n",
       "      <td>2</td>\n",
       "      <td>1624616329</td>\n",
       "    </tr>\n",
       "    <tr>\n",
       "      <th>539090</th>\n",
       "      <td>b5633cde-5f00-4e47-a1c4-01d2b4c56aff</td>\n",
       "      <td>2719</td>\n",
       "      <td>2</td>\n",
       "      <td>1635050924</td>\n",
       "    </tr>\n",
       "    <tr>\n",
       "      <th>550641</th>\n",
       "      <td>25670cd5-c9bf-4ec1-b532-eecdd293b812</td>\n",
       "      <td>2719</td>\n",
       "      <td>2</td>\n",
       "      <td>1635659599</td>\n",
       "    </tr>\n",
       "    <tr>\n",
       "      <th>551352</th>\n",
       "      <td>29396054-3374-471f-b4cd-b793750e5d41</td>\n",
       "      <td>2719</td>\n",
       "      <td>2</td>\n",
       "      <td>1636366687</td>\n",
       "    </tr>\n",
       "    <tr>\n",
       "      <th>555696</th>\n",
       "      <td>f952cb46-31ee-49ff-a6a5-92254aa08663</td>\n",
       "      <td>2719</td>\n",
       "      <td>2</td>\n",
       "      <td>1639470140</td>\n",
       "    </tr>\n",
       "  </tbody>\n",
       "</table>\n",
       "<p>3409 rows × 4 columns</p>\n",
       "</div>"
      ],
      "text/plain": [
       "                                        user  item  rating   timestamp\n",
       "581     689e1169-d896-4523-8a97-c70649763e67  2719       1  1629074397\n",
       "583     d7d13b02-7da2-475c-ba5b-698833c87ef9  2719       1  1629100051\n",
       "642     689e1169-d896-4523-8a97-c70649763e67  2719       1  1629419326\n",
       "1233    ef5a9bc2-fbcb-4466-a887-70dce4e7cf85  2719       1  1631925066\n",
       "1295    11e464cf-31c0-4968-ae4d-188ee0aa8664  2719       1  1632423279\n",
       "...                                      ...   ...     ...         ...\n",
       "529308  3c4d0011-f473-44fa-9b65-e9118a51a955  2719       2  1624616329\n",
       "539090  b5633cde-5f00-4e47-a1c4-01d2b4c56aff  2719       2  1635050924\n",
       "550641  25670cd5-c9bf-4ec1-b532-eecdd293b812  2719       2  1635659599\n",
       "551352  29396054-3374-471f-b4cd-b793750e5d41  2719       2  1636366687\n",
       "555696  f952cb46-31ee-49ff-a6a5-92254aa08663  2719       2  1639470140\n",
       "\n",
       "[3409 rows x 4 columns]"
      ]
     },
     "execution_count": 91,
     "metadata": {},
     "output_type": "execute_result"
    }
   ],
   "source": [
    "dataset[(dataset['item'] == 2719)]"
   ]
  },
  {
   "cell_type": "markdown",
   "id": "ed162296",
   "metadata": {},
   "source": [
    "### Recommendation using Implict"
   ]
  },
  {
   "cell_type": "code",
   "execution_count": 104,
   "id": "c3c9c995",
   "metadata": {},
   "outputs": [],
   "source": [
    "import pandas as pd\n",
    "import scipy.sparse as sparse\n",
    "import numpy as np\n",
    "import random\n",
    "import implicit\n",
    "from sklearn.preprocessing import MinMaxScaler"
   ]
  },
  {
   "cell_type": "code",
   "execution_count": 111,
   "id": "5431fe12",
   "metadata": {},
   "outputs": [],
   "source": [
    "dataset_df = dataset.copy()\n",
    "dataset_df.rename(columns={'rating':'event_strength'}, inplace=True)"
   ]
  },
  {
   "cell_type": "code",
   "execution_count": 148,
   "id": "fb0b9084",
   "metadata": {},
   "outputs": [
    {
     "data": {
      "application/vnd.jupyter.widget-view+json": {
       "model_id": "7ba1f164a2a64701ad9336dc80078589",
       "version_major": 2,
       "version_minor": 0
      },
      "text/plain": [
       "  0%|          | 0/50 [00:00<?, ?it/s]"
      ]
     },
     "metadata": {},
     "output_type": "display_data"
    }
   ],
   "source": [
    "dataset_transformed = dataset_df.copy()\n",
    "dataset_transformed['user'] = dataset_transformed['user'].astype(\"category\")\n",
    "dataset_transformed['user_id'] = dataset_transformed['user'].cat.codes\n",
    "\n",
    "sparse_item_user = sparse.csr_matrix((dataset_transformed['event_strength'].astype(float), (dataset_transformed['item'], dataset_transformed['user_id'])))\n",
    "sparse_user_item = sparse.csr_matrix((dataset_transformed['event_strength'].astype(float), (dataset_transformed['user_id'], dataset_transformed['item'])))\n",
    "\n",
    "\n",
    "model = implicit.als.AlternatingLeastSquares(factors=20, regularization=0.1, iterations=50)\n",
    "\n",
    "alpha = 15\n",
    "data = (sparse_item_user * alpha).astype('double')\n",
    "\n",
    "model.fit(data)"
   ]
  },
  {
   "cell_type": "code",
   "execution_count": 141,
   "id": "fd641fed",
   "metadata": {},
   "outputs": [
    {
     "data": {
      "text/html": [
       "<div>\n",
       "<style scoped>\n",
       "    .dataframe tbody tr th:only-of-type {\n",
       "        vertical-align: middle;\n",
       "    }\n",
       "\n",
       "    .dataframe tbody tr th {\n",
       "        vertical-align: top;\n",
       "    }\n",
       "\n",
       "    .dataframe thead th {\n",
       "        text-align: right;\n",
       "    }\n",
       "</style>\n",
       "<table border=\"1\" class=\"dataframe\">\n",
       "  <thead>\n",
       "    <tr style=\"text-align: right;\">\n",
       "      <th></th>\n",
       "      <th>user</th>\n",
       "      <th>item</th>\n",
       "      <th>event_strength</th>\n",
       "      <th>timestamp</th>\n",
       "      <th>user_id</th>\n",
       "    </tr>\n",
       "  </thead>\n",
       "  <tbody>\n",
       "    <tr>\n",
       "      <th>0</th>\n",
       "      <td>36c0daa2-5aad-4b0c-81e3-8d276b223573</td>\n",
       "      <td>6198</td>\n",
       "      <td>1</td>\n",
       "      <td>1633082142</td>\n",
       "      <td>4919</td>\n",
       "    </tr>\n",
       "    <tr>\n",
       "      <th>1</th>\n",
       "      <td>c9a9b40a-90ce-42c7-8b02-1301ad4914b1</td>\n",
       "      <td>190</td>\n",
       "      <td>1</td>\n",
       "      <td>1630125341</td>\n",
       "      <td>18023</td>\n",
       "    </tr>\n",
       "    <tr>\n",
       "      <th>2</th>\n",
       "      <td>83969882-083c-4150-b9eb-19bb3197720d</td>\n",
       "      <td>7330</td>\n",
       "      <td>1</td>\n",
       "      <td>1630143229</td>\n",
       "      <td>11813</td>\n",
       "    </tr>\n",
       "    <tr>\n",
       "      <th>3</th>\n",
       "      <td>83969882-083c-4150-b9eb-19bb3197720d</td>\n",
       "      <td>8978</td>\n",
       "      <td>1</td>\n",
       "      <td>1630143685</td>\n",
       "      <td>11813</td>\n",
       "    </tr>\n",
       "    <tr>\n",
       "      <th>4</th>\n",
       "      <td>83969882-083c-4150-b9eb-19bb3197720d</td>\n",
       "      <td>9263</td>\n",
       "      <td>1</td>\n",
       "      <td>1630143781</td>\n",
       "      <td>11813</td>\n",
       "    </tr>\n",
       "  </tbody>\n",
       "</table>\n",
       "</div>"
      ],
      "text/plain": [
       "                                   user  item  event_strength   timestamp  \\\n",
       "0  36c0daa2-5aad-4b0c-81e3-8d276b223573  6198               1  1633082142   \n",
       "1  c9a9b40a-90ce-42c7-8b02-1301ad4914b1   190               1  1630125341   \n",
       "2  83969882-083c-4150-b9eb-19bb3197720d  7330               1  1630143229   \n",
       "3  83969882-083c-4150-b9eb-19bb3197720d  8978               1  1630143685   \n",
       "4  83969882-083c-4150-b9eb-19bb3197720d  9263               1  1630143781   \n",
       "\n",
       "   user_id  \n",
       "0     4919  \n",
       "1    18023  \n",
       "2    11813  \n",
       "3    11813  \n",
       "4    11813  "
      ]
     },
     "execution_count": 141,
     "metadata": {},
     "output_type": "execute_result"
    }
   ],
   "source": [
    "dataset_transformed.head()"
   ]
  },
  {
   "cell_type": "markdown",
   "id": "1c1e7ab9",
   "metadata": {},
   "source": [
    "#### Similar Items"
   ]
  },
  {
   "cell_type": "code",
   "execution_count": 138,
   "id": "190fd2b2",
   "metadata": {},
   "outputs": [
    {
     "name": "stdout",
     "output_type": "stream",
     "text": [
      "2719 1.0000001\n",
      "5720 0.87037086\n",
      "15838 0.8476719\n",
      "22584 0.84492004\n",
      "9098 0.84096164\n",
      "5885 0.8357961\n",
      "8698 0.83492094\n",
      "2176 0.8272938\n",
      "22466 0.8253766\n",
      "14947 0.821198\n"
     ]
    }
   ],
   "source": [
    "item_id = 2719\n",
    "n_similar = 10\n",
    "\n",
    "user_vecs = model.user_factors\n",
    "item_vecs = model.item_factors\n",
    "\n",
    "item_norms = np.sqrt((item_vecs * item_vecs).sum(axis=1))\n",
    "\n",
    "scores = item_vecs.dot(item_vecs[item_id]) / item_norms\n",
    "top_idx = np.argpartition(scores, -n_similar)[-n_similar:]\n",
    "similar = sorted(zip(top_idx, scores[top_idx] / item_norms[item_id]), key=lambda x: -x[1])\n",
    "\n",
    "for item in similar:\n",
    "    idx, score = item\n",
    "    print(idx, score)"
   ]
  },
  {
   "cell_type": "code",
   "execution_count": 170,
   "id": "a912759a",
   "metadata": {},
   "outputs": [
    {
     "name": "stdout",
     "output_type": "stream",
     "text": [
      "    item     score\n",
      "0  16534  1.000000\n",
      "1   7116  0.959908\n",
      "2    169  0.950384\n",
      "3  21447  0.928597\n",
      "4  22323  0.910530\n",
      "5    325  0.898174\n",
      "6   6341  0.897446\n",
      "7  14359  0.894313\n",
      "8  15797  0.890978\n",
      "9  21660  0.876455\n"
     ]
    }
   ],
   "source": [
    "def recommend(user_id, sparse_user_item, user_vecs, item_vecs, num_contents=10):\n",
    "    # Get the interactions scores from the sparse person content matrix\n",
    "    user_interactions = sparse_user_item[user_id,:].toarray()\n",
    "    # Add 1 to everything, so that articles with no interaction yet become equal to 1\n",
    "    user_interactions = user_interactions.reshape(-1) + 1\n",
    "    # Make articles already interacted zero\n",
    "    user_interactions[user_interactions > 1] = 0\n",
    "    # Get dot product of person vector and all content vectors\n",
    "    rec_vector = user_vecs[user_id,:].dot(item_vecs.T).toarray()\n",
    "    \n",
    "    # Scale this recommendation vector between 0 and 1\n",
    "    min_max = MinMaxScaler()\n",
    "    rec_vector_scaled = min_max.fit_transform(rec_vector.reshape(-1,1))[:,0]\n",
    "    # Content already interacted have their recommendation multiplied by zero\n",
    "    recommend_vector = user_interactions * rec_vector_scaled\n",
    "    # Sort the indices of the content into order of best recommendations\n",
    "    content_idx = np.argsort(recommend_vector)[::-1][:num_contents]\n",
    "    \n",
    "    # Start empty list to store titles and scores\n",
    "    items = []\n",
    "    scores = []\n",
    "    \n",
    "    for idx in content_idx:\n",
    "        items.append(idx)\n",
    "        scores.append(recommend_vector[idx])\n",
    "\n",
    "    recommendations = pd.DataFrame({'item': items, 'score': scores})\n",
    "\n",
    "    return recommendations\n",
    "\n",
    "user_vecs = sparse.csr_matrix(model.user_factors)\n",
    "item_vecs = sparse.csr_matrix(model.item_factors)\n",
    "\n",
    "user_id = 18023\n",
    "\n",
    "recommendations = recommend(user_id, sparse_item_user, user_vecs, item_vecs)\n",
    "\n",
    "print(recommendations)"
   ]
  }
 ],
 "metadata": {
  "kernelspec": {
   "display_name": "Python 3 (ipykernel)",
   "language": "python",
   "name": "python3"
  },
  "language_info": {
   "codemirror_mode": {
    "name": "ipython",
    "version": 3
   },
   "file_extension": ".py",
   "mimetype": "text/x-python",
   "name": "python",
   "nbconvert_exporter": "python",
   "pygments_lexer": "ipython3",
   "version": "3.9.10"
  }
 },
 "nbformat": 4,
 "nbformat_minor": 5
}
