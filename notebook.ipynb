{
 "cells": [
  {
   "cell_type": "code",
   "execution_count": 46,
   "id": "90c464dd",
   "metadata": {},
   "outputs": [],
   "source": [
    "import pandas as pd\n",
    "import joblib"
   ]
  },
  {
   "cell_type": "code",
   "execution_count": 8,
   "id": "905338fb",
   "metadata": {},
   "outputs": [
    {
     "data": {
      "text/html": [
       "<div>\n",
       "<style scoped>\n",
       "    .dataframe tbody tr th:only-of-type {\n",
       "        vertical-align: middle;\n",
       "    }\n",
       "\n",
       "    .dataframe tbody tr th {\n",
       "        vertical-align: top;\n",
       "    }\n",
       "\n",
       "    .dataframe thead th {\n",
       "        text-align: right;\n",
       "    }\n",
       "</style>\n",
       "<table border=\"1\" class=\"dataframe\">\n",
       "  <thead>\n",
       "    <tr style=\"text-align: right;\">\n",
       "      <th></th>\n",
       "      <th>item_id</th>\n",
       "      <th>user_id</th>\n",
       "      <th>timestamp</th>\n",
       "      <th>click</th>\n",
       "      <th>purchase</th>\n",
       "    </tr>\n",
       "  </thead>\n",
       "  <tbody>\n",
       "    <tr>\n",
       "      <th>0</th>\n",
       "      <td>6198</td>\n",
       "      <td>36c0daa2-5aad-4b0c-81e3-8d276b223573</td>\n",
       "      <td>1633082142</td>\n",
       "      <td>1</td>\n",
       "      <td>0</td>\n",
       "    </tr>\n",
       "    <tr>\n",
       "      <th>1</th>\n",
       "      <td>190</td>\n",
       "      <td>c9a9b40a-90ce-42c7-8b02-1301ad4914b1</td>\n",
       "      <td>1630125341</td>\n",
       "      <td>1</td>\n",
       "      <td>0</td>\n",
       "    </tr>\n",
       "    <tr>\n",
       "      <th>2</th>\n",
       "      <td>7330</td>\n",
       "      <td>83969882-083c-4150-b9eb-19bb3197720d</td>\n",
       "      <td>1630143229</td>\n",
       "      <td>1</td>\n",
       "      <td>0</td>\n",
       "    </tr>\n",
       "    <tr>\n",
       "      <th>3</th>\n",
       "      <td>8978</td>\n",
       "      <td>83969882-083c-4150-b9eb-19bb3197720d</td>\n",
       "      <td>1630143685</td>\n",
       "      <td>1</td>\n",
       "      <td>0</td>\n",
       "    </tr>\n",
       "    <tr>\n",
       "      <th>4</th>\n",
       "      <td>9263</td>\n",
       "      <td>83969882-083c-4150-b9eb-19bb3197720d</td>\n",
       "      <td>1630143781</td>\n",
       "      <td>1</td>\n",
       "      <td>0</td>\n",
       "    </tr>\n",
       "  </tbody>\n",
       "</table>\n",
       "</div>"
      ],
      "text/plain": [
       "   item_id                               user_id   timestamp  click  purchase\n",
       "0     6198  36c0daa2-5aad-4b0c-81e3-8d276b223573  1633082142      1         0\n",
       "1      190  c9a9b40a-90ce-42c7-8b02-1301ad4914b1  1630125341      1         0\n",
       "2     7330  83969882-083c-4150-b9eb-19bb3197720d  1630143229      1         0\n",
       "3     8978  83969882-083c-4150-b9eb-19bb3197720d  1630143685      1         0\n",
       "4     9263  83969882-083c-4150-b9eb-19bb3197720d  1630143781      1         0"
      ]
     },
     "execution_count": 8,
     "metadata": {},
     "output_type": "execute_result"
    }
   ],
   "source": [
    "interaction_df = pd.read_csv(\"data/user_item_interactions.csv\")\n",
    "interaction_df.head()"
   ]
  },
  {
   "cell_type": "code",
   "execution_count": 16,
   "id": "500f7326",
   "metadata": {},
   "outputs": [
    {
     "data": {
      "text/html": [
       "<div>\n",
       "<style scoped>\n",
       "    .dataframe tbody tr th:only-of-type {\n",
       "        vertical-align: middle;\n",
       "    }\n",
       "\n",
       "    .dataframe tbody tr th {\n",
       "        vertical-align: top;\n",
       "    }\n",
       "\n",
       "    .dataframe thead th {\n",
       "        text-align: right;\n",
       "    }\n",
       "</style>\n",
       "<table border=\"1\" class=\"dataframe\">\n",
       "  <thead>\n",
       "    <tr style=\"text-align: right;\">\n",
       "      <th></th>\n",
       "      <th>item_id</th>\n",
       "      <th>user_id</th>\n",
       "      <th>timestamp</th>\n",
       "      <th>click</th>\n",
       "      <th>purchase</th>\n",
       "      <th>rating</th>\n",
       "    </tr>\n",
       "  </thead>\n",
       "  <tbody>\n",
       "    <tr>\n",
       "      <th>0</th>\n",
       "      <td>6198</td>\n",
       "      <td>36c0daa2-5aad-4b0c-81e3-8d276b223573</td>\n",
       "      <td>1633082142</td>\n",
       "      <td>1</td>\n",
       "      <td>0</td>\n",
       "      <td>1</td>\n",
       "    </tr>\n",
       "    <tr>\n",
       "      <th>1</th>\n",
       "      <td>190</td>\n",
       "      <td>c9a9b40a-90ce-42c7-8b02-1301ad4914b1</td>\n",
       "      <td>1630125341</td>\n",
       "      <td>1</td>\n",
       "      <td>0</td>\n",
       "      <td>1</td>\n",
       "    </tr>\n",
       "    <tr>\n",
       "      <th>2</th>\n",
       "      <td>7330</td>\n",
       "      <td>83969882-083c-4150-b9eb-19bb3197720d</td>\n",
       "      <td>1630143229</td>\n",
       "      <td>1</td>\n",
       "      <td>0</td>\n",
       "      <td>1</td>\n",
       "    </tr>\n",
       "    <tr>\n",
       "      <th>3</th>\n",
       "      <td>8978</td>\n",
       "      <td>83969882-083c-4150-b9eb-19bb3197720d</td>\n",
       "      <td>1630143685</td>\n",
       "      <td>1</td>\n",
       "      <td>0</td>\n",
       "      <td>1</td>\n",
       "    </tr>\n",
       "    <tr>\n",
       "      <th>4</th>\n",
       "      <td>9263</td>\n",
       "      <td>83969882-083c-4150-b9eb-19bb3197720d</td>\n",
       "      <td>1630143781</td>\n",
       "      <td>1</td>\n",
       "      <td>0</td>\n",
       "      <td>1</td>\n",
       "    </tr>\n",
       "  </tbody>\n",
       "</table>\n",
       "</div>"
      ],
      "text/plain": [
       "   item_id                               user_id   timestamp  click  purchase  \\\n",
       "0     6198  36c0daa2-5aad-4b0c-81e3-8d276b223573  1633082142      1         0   \n",
       "1      190  c9a9b40a-90ce-42c7-8b02-1301ad4914b1  1630125341      1         0   \n",
       "2     7330  83969882-083c-4150-b9eb-19bb3197720d  1630143229      1         0   \n",
       "3     8978  83969882-083c-4150-b9eb-19bb3197720d  1630143685      1         0   \n",
       "4     9263  83969882-083c-4150-b9eb-19bb3197720d  1630143781      1         0   \n",
       "\n",
       "   rating  \n",
       "0       1  \n",
       "1       1  \n",
       "2       1  \n",
       "3       1  \n",
       "4       1  "
      ]
     },
     "execution_count": 16,
     "metadata": {},
     "output_type": "execute_result"
    }
   ],
   "source": [
    "interaction = interaction_df.copy()\n",
    "interaction['purchase'] = interaction['purchase'].apply(lambda x: 2 if x==1 else 0)\n",
    "interaction['rating'] = interaction['purchase'] + interaction['click']\n",
    "interaction.head()"
   ]
  },
  {
   "cell_type": "code",
   "execution_count": 612,
   "id": "6c8c4a3c",
   "metadata": {},
   "outputs": [
    {
     "data": {
      "text/html": [
       "<div>\n",
       "<style scoped>\n",
       "    .dataframe tbody tr th:only-of-type {\n",
       "        vertical-align: middle;\n",
       "    }\n",
       "\n",
       "    .dataframe tbody tr th {\n",
       "        vertical-align: top;\n",
       "    }\n",
       "\n",
       "    .dataframe thead th {\n",
       "        text-align: right;\n",
       "    }\n",
       "</style>\n",
       "<table border=\"1\" class=\"dataframe\">\n",
       "  <thead>\n",
       "    <tr style=\"text-align: right;\">\n",
       "      <th></th>\n",
       "      <th>user</th>\n",
       "      <th>item</th>\n",
       "      <th>rating</th>\n",
       "      <th>timestamp</th>\n",
       "    </tr>\n",
       "  </thead>\n",
       "  <tbody>\n",
       "    <tr>\n",
       "      <th>0</th>\n",
       "      <td>36c0daa2-5aad-4b0c-81e3-8d276b223573</td>\n",
       "      <td>6198</td>\n",
       "      <td>1</td>\n",
       "      <td>1633082142</td>\n",
       "    </tr>\n",
       "    <tr>\n",
       "      <th>1</th>\n",
       "      <td>c9a9b40a-90ce-42c7-8b02-1301ad4914b1</td>\n",
       "      <td>190</td>\n",
       "      <td>1</td>\n",
       "      <td>1630125341</td>\n",
       "    </tr>\n",
       "    <tr>\n",
       "      <th>2</th>\n",
       "      <td>83969882-083c-4150-b9eb-19bb3197720d</td>\n",
       "      <td>7330</td>\n",
       "      <td>1</td>\n",
       "      <td>1630143229</td>\n",
       "    </tr>\n",
       "    <tr>\n",
       "      <th>3</th>\n",
       "      <td>83969882-083c-4150-b9eb-19bb3197720d</td>\n",
       "      <td>8978</td>\n",
       "      <td>1</td>\n",
       "      <td>1630143685</td>\n",
       "    </tr>\n",
       "    <tr>\n",
       "      <th>4</th>\n",
       "      <td>83969882-083c-4150-b9eb-19bb3197720d</td>\n",
       "      <td>9263</td>\n",
       "      <td>1</td>\n",
       "      <td>1630143781</td>\n",
       "    </tr>\n",
       "  </tbody>\n",
       "</table>\n",
       "</div>"
      ],
      "text/plain": [
       "                                   user  item  rating   timestamp\n",
       "0  36c0daa2-5aad-4b0c-81e3-8d276b223573  6198       1  1633082142\n",
       "1  c9a9b40a-90ce-42c7-8b02-1301ad4914b1   190       1  1630125341\n",
       "2  83969882-083c-4150-b9eb-19bb3197720d  7330       1  1630143229\n",
       "3  83969882-083c-4150-b9eb-19bb3197720d  8978       1  1630143685\n",
       "4  83969882-083c-4150-b9eb-19bb3197720d  9263       1  1630143781"
      ]
     },
     "execution_count": 612,
     "metadata": {},
     "output_type": "execute_result"
    }
   ],
   "source": [
    "dataset = pd.DataFrame()\n",
    "dataset['user'] = interaction['user_id']\n",
    "dataset['item'] = interaction['item_id']\n",
    "dataset['rating'] = interaction['rating']\n",
    "dataset['timestamp'] = interaction['timestamp']\n",
    "dataset.head()"
   ]
  },
  {
   "cell_type": "code",
   "execution_count": 613,
   "id": "713bd49d",
   "metadata": {},
   "outputs": [],
   "source": [
    "dataset.to_csv('data/user_item_interactions.csv', index=False)"
   ]
  },
  {
   "cell_type": "markdown",
   "id": "13b46a3b",
   "metadata": {},
   "source": [
    "### N-Recommended Products"
   ]
  },
  {
   "cell_type": "code",
   "execution_count": 614,
   "id": "d4d3348b",
   "metadata": {},
   "outputs": [
    {
     "name": "stdout",
     "output_type": "stream",
     "text": [
      "RMSE: 0.1778\n",
      "RMSE: 0.1777\n",
      "RMSE: 0.1766\n",
      "RMSE: 0.1765\n",
      "RMSE: 0.1755\n",
      "RMSE: 0.1748\n",
      "RMSE: 0.1760\n",
      "RMSE: 0.1757\n",
      "RMSE: 0.1765\n",
      "RMSE: 0.1796\n"
     ]
    }
   ],
   "source": [
    "from surprise import KNNBaseline\n",
    "from surprise import Dataset\n",
    "from surprise import accuracy\n",
    "from surprise import Reader\n",
    "import os\n",
    "from surprise.model_selection import train_test_split\n",
    "from surprise.model_selection import KFold\n",
    "from surprise import SVD\n",
    "\n",
    "\n",
    "reader = Reader(rating_scale=(1, 2))\n",
    "data = Dataset.load_from_df(df=dataset[['user', 'item', 'rating']], reader=reader)\n",
    "\n",
    "kf = KFold(n_splits=10)\n",
    "\n",
    "svd = SVD()\n",
    "\n",
    "for trainset, testset in kf.split(data):\n",
    "    svd.fit(trainset)\n",
    "    predictions = svd.test(testset)\n",
    "    accuracy.rmse(predictions, verbose=True)"
   ]
  },
  {
   "cell_type": "code",
   "execution_count": 615,
   "id": "d154d62b",
   "metadata": {},
   "outputs": [],
   "source": [
    "from collections import defaultdict\n",
    "import json\n",
    "def get_top_n(predictions, n=10):\n",
    "    \"\"\"Return the top-N recommendation for each user from a set of predictions.\n",
    "    Args:\n",
    "        predictions(list of Prediction objects): The list of predictions, as\n",
    "            returned by the test method of an algorithm.\n",
    "        n(int): The number of recommendation to output for each user. Default\n",
    "            is 10.\n",
    "    Returns:\n",
    "    A dict where keys are user (raw) ids and values are lists of tuples:\n",
    "        [(raw item id, rating estimation), ...] of size n.\n",
    "    \"\"\"\n",
    "\n",
    "    # First map the predictions to each user.\n",
    "    top_n = defaultdict(list)\n",
    "    for uid, iid, true_r, est, _ in predictions:\n",
    "        top_n[uid].append((iid, est))\n",
    "\n",
    "    # Then sort the predictions for each user and retrieve the k highest ones.\n",
    "    for uid, user_ratings in top_n.items():\n",
    "        user_ratings.sort(key=lambda x: x[1], reverse=True)\n",
    "        top_n[uid] = user_ratings[:n]\n",
    "\n",
    "    return top_n\n",
    "\n",
    "top_n = get_top_n(predictions, n=10)\n",
    "result = {}\n",
    "for uid, user_ratings in top_n.items():\n",
    "    result[uid] = [iid for (iid, _) in user_ratings]\n",
    "with open(\"result.json\", \"w\") as f:\n",
    "    f.write(json.dumps(result))"
   ]
  },
  {
   "cell_type": "code",
   "execution_count": 51,
   "id": "6588df03",
   "metadata": {},
   "outputs": [
    {
     "data": {
      "text/plain": [
       "['svd.joblib']"
      ]
     },
     "execution_count": 51,
     "metadata": {},
     "output_type": "execute_result"
    }
   ],
   "source": [
    "joblib.dump(svd,'svd.joblib')"
   ]
  },
  {
   "cell_type": "markdown",
   "id": "3b3596bf",
   "metadata": {},
   "source": [
    "### K-Similar Items"
   ]
  },
  {
   "cell_type": "code",
   "execution_count": 43,
   "id": "201debbe",
   "metadata": {},
   "outputs": [
    {
     "name": "stdout",
     "output_type": "stream",
     "text": [
      "Estimating biases using als...\n",
      "Computing the pearson_baseline similarity matrix...\n",
      "Done computing similarity matrix.\n"
     ]
    },
    {
     "data": {
      "text/plain": [
       "<surprise.prediction_algorithms.knns.KNNBaseline at 0x1203a4f40>"
      ]
     },
     "execution_count": 43,
     "metadata": {},
     "output_type": "execute_result"
    }
   ],
   "source": [
    "trainset = data.build_full_trainset()\n",
    "sim_options = {'name': 'pearson_baseline', 'user_based': False}\n",
    "knn = KNNBaseline(sim_options=sim_options)\n",
    "knn.fit(trainset)"
   ]
  },
  {
   "cell_type": "code",
   "execution_count": 44,
   "id": "dbdccb89",
   "metadata": {},
   "outputs": [
    {
     "name": "stdout",
     "output_type": "stream",
     "text": [
      "RMSE: 0.0465\n"
     ]
    },
    {
     "data": {
      "text/plain": [
       "0.046461337102403036"
      ]
     },
     "execution_count": 44,
     "metadata": {},
     "output_type": "execute_result"
    }
   ],
   "source": [
    "testset = trainset.build_testset()\n",
    "predictions = knn.test(testset)\n",
    "accuracy.rmse(predictions, verbose=True)"
   ]
  },
  {
   "cell_type": "code",
   "execution_count": 48,
   "id": "8a4a9c77",
   "metadata": {},
   "outputs": [
    {
     "data": {
      "text/plain": [
       "[689, 735, 67, 3104, 365, 688, 2414, 3107, 6947, 1202]"
      ]
     },
     "execution_count": 48,
     "metadata": {},
     "output_type": "execute_result"
    }
   ],
   "source": [
    "knn.get_neighbors(456, k=10)"
   ]
  },
  {
   "cell_type": "code",
   "execution_count": 93,
   "id": "c131e45d",
   "metadata": {},
   "outputs": [
    {
     "data": {
      "text/plain": [
       "['knn.joblib']"
      ]
     },
     "execution_count": 93,
     "metadata": {},
     "output_type": "execute_result"
    }
   ],
   "source": [
    "joblib.dump(knn, 'knn.joblib')"
   ]
  },
  {
   "cell_type": "code",
   "execution_count": 94,
   "id": "6253ace8",
   "metadata": {},
   "outputs": [
    {
     "data": {
      "text/plain": [
       "[689, 735, 67, 3104, 365, 688, 2414, 3107, 6947, 1202]"
      ]
     },
     "execution_count": 94,
     "metadata": {},
     "output_type": "execute_result"
    }
   ],
   "source": [
    "model = joblib.load('knn.joblib')\n",
    "model.get_neighbors(456, k=10)"
   ]
  },
  {
   "cell_type": "markdown",
   "id": "c495a92b",
   "metadata": {},
   "source": [
    "### Popular Recommended Products"
   ]
  },
  {
   "cell_type": "code",
   "execution_count": 92,
   "id": "af805de5",
   "metadata": {},
   "outputs": [
    {
     "data": {
      "text/html": [
       "<div>\n",
       "<style scoped>\n",
       "    .dataframe tbody tr th:only-of-type {\n",
       "        vertical-align: middle;\n",
       "    }\n",
       "\n",
       "    .dataframe tbody tr th {\n",
       "        vertical-align: top;\n",
       "    }\n",
       "\n",
       "    .dataframe thead th {\n",
       "        text-align: right;\n",
       "    }\n",
       "</style>\n",
       "<table border=\"1\" class=\"dataframe\">\n",
       "  <thead>\n",
       "    <tr style=\"text-align: right;\">\n",
       "      <th></th>\n",
       "      <th>item</th>\n",
       "      <th>0</th>\n",
       "      <th>count</th>\n",
       "    </tr>\n",
       "  </thead>\n",
       "  <tbody>\n",
       "    <tr>\n",
       "      <th>2511</th>\n",
       "      <td>2719</td>\n",
       "      <td>3409</td>\n",
       "      <td>3409</td>\n",
       "    </tr>\n",
       "    <tr>\n",
       "      <th>3188</th>\n",
       "      <td>3589</td>\n",
       "      <td>3081</td>\n",
       "      <td>3081</td>\n",
       "    </tr>\n",
       "    <tr>\n",
       "      <th>7610</th>\n",
       "      <td>8978</td>\n",
       "      <td>2867</td>\n",
       "      <td>2867</td>\n",
       "    </tr>\n",
       "    <tr>\n",
       "      <th>2845</th>\n",
       "      <td>3082</td>\n",
       "      <td>2612</td>\n",
       "      <td>2612</td>\n",
       "    </tr>\n",
       "    <tr>\n",
       "      <th>1451</th>\n",
       "      <td>1547</td>\n",
       "      <td>2075</td>\n",
       "      <td>2075</td>\n",
       "    </tr>\n",
       "    <tr>\n",
       "      <th>2509</th>\n",
       "      <td>2717</td>\n",
       "      <td>1842</td>\n",
       "      <td>1842</td>\n",
       "    </tr>\n",
       "    <tr>\n",
       "      <th>10290</th>\n",
       "      <td>13400</td>\n",
       "      <td>1569</td>\n",
       "      <td>1569</td>\n",
       "    </tr>\n",
       "    <tr>\n",
       "      <th>1188</th>\n",
       "      <td>1264</td>\n",
       "      <td>1489</td>\n",
       "      <td>1489</td>\n",
       "    </tr>\n",
       "    <tr>\n",
       "      <th>717</th>\n",
       "      <td>761</td>\n",
       "      <td>1467</td>\n",
       "      <td>1467</td>\n",
       "    </tr>\n",
       "    <tr>\n",
       "      <th>176</th>\n",
       "      <td>189</td>\n",
       "      <td>1458</td>\n",
       "      <td>1458</td>\n",
       "    </tr>\n",
       "  </tbody>\n",
       "</table>\n",
       "</div>"
      ],
      "text/plain": [
       "        item     0  count\n",
       "2511    2719  3409   3409\n",
       "3188    3589  3081   3081\n",
       "7610    8978  2867   2867\n",
       "2845    3082  2612   2612\n",
       "1451    1547  2075   2075\n",
       "2509    2717  1842   1842\n",
       "10290  13400  1569   1569\n",
       "1188    1264  1489   1489\n",
       "717      761  1467   1467\n",
       "176      189  1458   1458"
      ]
     },
     "execution_count": 92,
     "metadata": {},
     "output_type": "execute_result"
    }
   ],
   "source": [
    "popular_items = dataset.groupby(['item']).size().reset_index()\n",
    "popular_items['count'] = popular_items[0]\n",
    "popular_items.sort_values(by='count', ascending=False).head(10)\n",
    "# popular_items[0]"
   ]
  },
  {
   "cell_type": "code",
   "execution_count": 91,
   "id": "6090e52a",
   "metadata": {},
   "outputs": [
    {
     "data": {
      "text/html": [
       "<div>\n",
       "<style scoped>\n",
       "    .dataframe tbody tr th:only-of-type {\n",
       "        vertical-align: middle;\n",
       "    }\n",
       "\n",
       "    .dataframe tbody tr th {\n",
       "        vertical-align: top;\n",
       "    }\n",
       "\n",
       "    .dataframe thead th {\n",
       "        text-align: right;\n",
       "    }\n",
       "</style>\n",
       "<table border=\"1\" class=\"dataframe\">\n",
       "  <thead>\n",
       "    <tr style=\"text-align: right;\">\n",
       "      <th></th>\n",
       "      <th>user</th>\n",
       "      <th>item</th>\n",
       "      <th>rating</th>\n",
       "      <th>timestamp</th>\n",
       "    </tr>\n",
       "  </thead>\n",
       "  <tbody>\n",
       "    <tr>\n",
       "      <th>581</th>\n",
       "      <td>689e1169-d896-4523-8a97-c70649763e67</td>\n",
       "      <td>2719</td>\n",
       "      <td>1</td>\n",
       "      <td>1629074397</td>\n",
       "    </tr>\n",
       "    <tr>\n",
       "      <th>583</th>\n",
       "      <td>d7d13b02-7da2-475c-ba5b-698833c87ef9</td>\n",
       "      <td>2719</td>\n",
       "      <td>1</td>\n",
       "      <td>1629100051</td>\n",
       "    </tr>\n",
       "    <tr>\n",
       "      <th>642</th>\n",
       "      <td>689e1169-d896-4523-8a97-c70649763e67</td>\n",
       "      <td>2719</td>\n",
       "      <td>1</td>\n",
       "      <td>1629419326</td>\n",
       "    </tr>\n",
       "    <tr>\n",
       "      <th>1233</th>\n",
       "      <td>ef5a9bc2-fbcb-4466-a887-70dce4e7cf85</td>\n",
       "      <td>2719</td>\n",
       "      <td>1</td>\n",
       "      <td>1631925066</td>\n",
       "    </tr>\n",
       "    <tr>\n",
       "      <th>1295</th>\n",
       "      <td>11e464cf-31c0-4968-ae4d-188ee0aa8664</td>\n",
       "      <td>2719</td>\n",
       "      <td>1</td>\n",
       "      <td>1632423279</td>\n",
       "    </tr>\n",
       "    <tr>\n",
       "      <th>...</th>\n",
       "      <td>...</td>\n",
       "      <td>...</td>\n",
       "      <td>...</td>\n",
       "      <td>...</td>\n",
       "    </tr>\n",
       "    <tr>\n",
       "      <th>529308</th>\n",
       "      <td>3c4d0011-f473-44fa-9b65-e9118a51a955</td>\n",
       "      <td>2719</td>\n",
       "      <td>2</td>\n",
       "      <td>1624616329</td>\n",
       "    </tr>\n",
       "    <tr>\n",
       "      <th>539090</th>\n",
       "      <td>b5633cde-5f00-4e47-a1c4-01d2b4c56aff</td>\n",
       "      <td>2719</td>\n",
       "      <td>2</td>\n",
       "      <td>1635050924</td>\n",
       "    </tr>\n",
       "    <tr>\n",
       "      <th>550641</th>\n",
       "      <td>25670cd5-c9bf-4ec1-b532-eecdd293b812</td>\n",
       "      <td>2719</td>\n",
       "      <td>2</td>\n",
       "      <td>1635659599</td>\n",
       "    </tr>\n",
       "    <tr>\n",
       "      <th>551352</th>\n",
       "      <td>29396054-3374-471f-b4cd-b793750e5d41</td>\n",
       "      <td>2719</td>\n",
       "      <td>2</td>\n",
       "      <td>1636366687</td>\n",
       "    </tr>\n",
       "    <tr>\n",
       "      <th>555696</th>\n",
       "      <td>f952cb46-31ee-49ff-a6a5-92254aa08663</td>\n",
       "      <td>2719</td>\n",
       "      <td>2</td>\n",
       "      <td>1639470140</td>\n",
       "    </tr>\n",
       "  </tbody>\n",
       "</table>\n",
       "<p>3409 rows × 4 columns</p>\n",
       "</div>"
      ],
      "text/plain": [
       "                                        user  item  rating   timestamp\n",
       "581     689e1169-d896-4523-8a97-c70649763e67  2719       1  1629074397\n",
       "583     d7d13b02-7da2-475c-ba5b-698833c87ef9  2719       1  1629100051\n",
       "642     689e1169-d896-4523-8a97-c70649763e67  2719       1  1629419326\n",
       "1233    ef5a9bc2-fbcb-4466-a887-70dce4e7cf85  2719       1  1631925066\n",
       "1295    11e464cf-31c0-4968-ae4d-188ee0aa8664  2719       1  1632423279\n",
       "...                                      ...   ...     ...         ...\n",
       "529308  3c4d0011-f473-44fa-9b65-e9118a51a955  2719       2  1624616329\n",
       "539090  b5633cde-5f00-4e47-a1c4-01d2b4c56aff  2719       2  1635050924\n",
       "550641  25670cd5-c9bf-4ec1-b532-eecdd293b812  2719       2  1635659599\n",
       "551352  29396054-3374-471f-b4cd-b793750e5d41  2719       2  1636366687\n",
       "555696  f952cb46-31ee-49ff-a6a5-92254aa08663  2719       2  1639470140\n",
       "\n",
       "[3409 rows x 4 columns]"
      ]
     },
     "execution_count": 91,
     "metadata": {},
     "output_type": "execute_result"
    }
   ],
   "source": [
    "dataset[(dataset['item'] == 2719)]"
   ]
  },
  {
   "cell_type": "markdown",
   "id": "2eeb5c7a",
   "metadata": {},
   "source": [
    "### Recommendation using Implict"
   ]
  },
  {
   "cell_type": "code",
   "execution_count": 616,
   "id": "905c2913",
   "metadata": {},
   "outputs": [],
   "source": [
    "import pandas as pd\n",
    "import scipy.sparse as sparse\n",
    "import numpy as np\n",
    "import random\n",
    "import implicit\n",
    "from sklearn.preprocessing import MinMaxScaler"
   ]
  },
  {
   "cell_type": "code",
   "execution_count": 617,
   "id": "7073d15b",
   "metadata": {},
   "outputs": [],
   "source": [
    "dataset_df = dataset.copy()\n",
    "dataset_df.rename(columns={'rating':'event_strength'}, inplace=True)"
   ]
  },
  {
   "cell_type": "code",
   "execution_count": 618,
   "id": "929d474a",
   "metadata": {},
   "outputs": [
    {
     "data": {
      "application/vnd.jupyter.widget-view+json": {
       "model_id": "99aecbbd7372449a894bbb84396b3c30",
       "version_major": 2,
       "version_minor": 0
      },
      "text/plain": [
       "  0%|          | 0/50 [00:00<?, ?it/s]"
      ]
     },
     "metadata": {},
     "output_type": "display_data"
    }
   ],
   "source": [
    "dataset_transformed = dataset_df.copy()\n",
    "dataset_transformed['user'] = dataset_transformed['user'].astype(\"category\")\n",
    "dataset_transformed['user_id'] = dataset_transformed['user'].cat.codes\n",
    "\n",
    "sparse_item_user = sparse.csr_matrix((dataset_transformed['event_strength'].astype(float), (dataset_transformed['item'], dataset_transformed['user_id'])))\n",
    "sparse_user_item = sparse.csr_matrix((dataset_transformed['event_strength'].astype(float), (dataset_transformed['user_id'], dataset_transformed['item'])))\n"
   ]
  },
  {
   "cell_type": "code",
   "execution_count": 621,
   "id": "ecd9cfe7",
   "metadata": {},
   "outputs": [],
   "source": [
    "from implicit.evaluation import precision_at_k, train_test_split\n",
    "\n",
    "train, test = train_test_split(data)"
   ]
  },
  {
   "cell_type": "code",
   "execution_count": 629,
   "id": "68556988",
   "metadata": {},
   "outputs": [
    {
     "data": {
      "application/vnd.jupyter.widget-view+json": {
       "model_id": "2a5d1b35f1bd4cbbaa74344d3027d51f",
       "version_major": 2,
       "version_minor": 0
      },
      "text/plain": [
       "  0%|          | 0/50 [00:00<?, ?it/s]"
      ]
     },
     "metadata": {},
     "output_type": "display_data"
    }
   ],
   "source": [
    "model = implicit.als.AlternatingLeastSquares(factors=20, regularization=0.1, iterations=50)\n",
    "alpha = 15\n",
    "data = (sparse_item_user * alpha).astype('double')\n",
    "model.fit(data)"
   ]
  },
  {
   "cell_type": "code",
   "execution_count": 619,
   "id": "07a9206d",
   "metadata": {},
   "outputs": [
    {
     "data": {
      "text/html": [
       "<div>\n",
       "<style scoped>\n",
       "    .dataframe tbody tr th:only-of-type {\n",
       "        vertical-align: middle;\n",
       "    }\n",
       "\n",
       "    .dataframe tbody tr th {\n",
       "        vertical-align: top;\n",
       "    }\n",
       "\n",
       "    .dataframe thead th {\n",
       "        text-align: right;\n",
       "    }\n",
       "</style>\n",
       "<table border=\"1\" class=\"dataframe\">\n",
       "  <thead>\n",
       "    <tr style=\"text-align: right;\">\n",
       "      <th></th>\n",
       "      <th>user</th>\n",
       "      <th>item</th>\n",
       "      <th>event_strength</th>\n",
       "      <th>timestamp</th>\n",
       "      <th>user_id</th>\n",
       "    </tr>\n",
       "  </thead>\n",
       "  <tbody>\n",
       "    <tr>\n",
       "      <th>0</th>\n",
       "      <td>36c0daa2-5aad-4b0c-81e3-8d276b223573</td>\n",
       "      <td>6198</td>\n",
       "      <td>1</td>\n",
       "      <td>1633082142</td>\n",
       "      <td>4919</td>\n",
       "    </tr>\n",
       "    <tr>\n",
       "      <th>1</th>\n",
       "      <td>c9a9b40a-90ce-42c7-8b02-1301ad4914b1</td>\n",
       "      <td>190</td>\n",
       "      <td>1</td>\n",
       "      <td>1630125341</td>\n",
       "      <td>18023</td>\n",
       "    </tr>\n",
       "    <tr>\n",
       "      <th>2</th>\n",
       "      <td>83969882-083c-4150-b9eb-19bb3197720d</td>\n",
       "      <td>7330</td>\n",
       "      <td>1</td>\n",
       "      <td>1630143229</td>\n",
       "      <td>11813</td>\n",
       "    </tr>\n",
       "    <tr>\n",
       "      <th>3</th>\n",
       "      <td>83969882-083c-4150-b9eb-19bb3197720d</td>\n",
       "      <td>8978</td>\n",
       "      <td>1</td>\n",
       "      <td>1630143685</td>\n",
       "      <td>11813</td>\n",
       "    </tr>\n",
       "    <tr>\n",
       "      <th>4</th>\n",
       "      <td>83969882-083c-4150-b9eb-19bb3197720d</td>\n",
       "      <td>9263</td>\n",
       "      <td>1</td>\n",
       "      <td>1630143781</td>\n",
       "      <td>11813</td>\n",
       "    </tr>\n",
       "  </tbody>\n",
       "</table>\n",
       "</div>"
      ],
      "text/plain": [
       "                                   user  item  event_strength   timestamp  \\\n",
       "0  36c0daa2-5aad-4b0c-81e3-8d276b223573  6198               1  1633082142   \n",
       "1  c9a9b40a-90ce-42c7-8b02-1301ad4914b1   190               1  1630125341   \n",
       "2  83969882-083c-4150-b9eb-19bb3197720d  7330               1  1630143229   \n",
       "3  83969882-083c-4150-b9eb-19bb3197720d  8978               1  1630143685   \n",
       "4  83969882-083c-4150-b9eb-19bb3197720d  9263               1  1630143781   \n",
       "\n",
       "   user_id  \n",
       "0     4919  \n",
       "1    18023  \n",
       "2    11813  \n",
       "3    11813  \n",
       "4    11813  "
      ]
     },
     "execution_count": 619,
     "metadata": {},
     "output_type": "execute_result"
    }
   ],
   "source": [
    "dataset_transformed.head()"
   ]
  },
  {
   "cell_type": "markdown",
   "id": "eecb2189",
   "metadata": {},
   "source": [
    "#### Similar Items"
   ]
  },
  {
   "cell_type": "code",
   "execution_count": 620,
   "id": "6771514b",
   "metadata": {},
   "outputs": [
    {
     "name": "stdout",
     "output_type": "stream",
     "text": [
      "2719 0.9999998\n",
      "9098 0.87973684\n",
      "8698 0.86409724\n",
      "3157 0.84976643\n",
      "22466 0.8447018\n",
      "5720 0.8286689\n",
      "15838 0.8267566\n",
      "3330 0.8106081\n",
      "15689 0.8054549\n",
      "19101 0.7959048\n"
     ]
    }
   ],
   "source": [
    "item_id = 2719\n",
    "n_similar = 10\n",
    "\n",
    "user_vecs = model.user_factors\n",
    "item_vecs = model.item_factors\n",
    "\n",
    "item_norms = np.sqrt((item_vecs * item_vecs).sum(axis=1))\n",
    "\n",
    "scores = item_vecs.dot(item_vecs[item_id]) / item_norms\n",
    "top_idx = np.argpartition(scores, -n_similar)[-n_similar:]\n",
    "similar = sorted(zip(top_idx, scores[top_idx] / item_norms[item_id]), key=lambda x: -x[1])\n",
    "\n",
    "for item in similar:\n",
    "    idx, score = item\n",
    "    print(idx, score)"
   ]
  },
  {
   "cell_type": "code",
   "execution_count": 170,
   "id": "5faacc26",
   "metadata": {},
   "outputs": [
    {
     "name": "stdout",
     "output_type": "stream",
     "text": [
      "    item     score\n",
      "0  16534  1.000000\n",
      "1   7116  0.959908\n",
      "2    169  0.950384\n",
      "3  21447  0.928597\n",
      "4  22323  0.910530\n",
      "5    325  0.898174\n",
      "6   6341  0.897446\n",
      "7  14359  0.894313\n",
      "8  15797  0.890978\n",
      "9  21660  0.876455\n"
     ]
    }
   ],
   "source": [
    "def recommend(user_id, sparse_user_item, user_vecs, item_vecs, num_contents=10):\n",
    "    user_interactions = sparse_user_item[user_id,:].toarray()\n",
    "    user_interactions = user_interactions.reshape(-1) + 1\n",
    "    user_interactions[user_interactions > 1] = 0\n",
    "    rec_vector = user_vecs[user_id,:].dot(item_vecs.T).toarray()\n",
    "    min_max = MinMaxScaler()\n",
    "    rec_vector_scaled = min_max.fit_transform(rec_vector.reshape(-1,1))[:,0]\n",
    "    recommend_vector = user_interactions * rec_vector_scaled\n",
    "    content_idx = np.argsort(recommend_vector)[::-1][:num_contents]\n",
    "    \n",
    "    items = []\n",
    "    scores = []\n",
    "    \n",
    "    for idx in content_idx:\n",
    "        items.append(idx)\n",
    "        scores.append(recommend_vector[idx])\n",
    "\n",
    "    recommendations = pd.DataFrame({'item': items, 'score': scores})\n",
    "\n",
    "    return recommendations\n",
    "\n",
    "user_vecs = sparse.csr_matrix(model.user_factors)\n",
    "item_vecs = sparse.csr_matrix(model.item_factors)\n",
    "\n",
    "user_id = 18023\n",
    "\n",
    "recommendations = recommend(user_id, sparse_item_user, user_vecs, item_vecs)\n",
    "\n",
    "print(recommendations)"
   ]
  },
  {
   "cell_type": "markdown",
   "id": "ecefa534",
   "metadata": {},
   "source": [
    "### LightFm Modeling"
   ]
  },
  {
   "cell_type": "code",
   "execution_count": 353,
   "id": "b1c2ed55",
   "metadata": {},
   "outputs": [
    {
     "data": {
      "text/html": [
       "<div>\n",
       "<style scoped>\n",
       "    .dataframe tbody tr th:only-of-type {\n",
       "        vertical-align: middle;\n",
       "    }\n",
       "\n",
       "    .dataframe tbody tr th {\n",
       "        vertical-align: top;\n",
       "    }\n",
       "\n",
       "    .dataframe thead th {\n",
       "        text-align: right;\n",
       "    }\n",
       "</style>\n",
       "<table border=\"1\" class=\"dataframe\">\n",
       "  <thead>\n",
       "    <tr style=\"text-align: right;\">\n",
       "      <th></th>\n",
       "      <th>id</th>\n",
       "      <th>title</th>\n",
       "      <th>description</th>\n",
       "      <th>availability</th>\n",
       "      <th>condition</th>\n",
       "      <th>price</th>\n",
       "      <th>sale_price</th>\n",
       "      <th>link</th>\n",
       "      <th>brand</th>\n",
       "      <th>image_link</th>\n",
       "    </tr>\n",
       "  </thead>\n",
       "  <tbody>\n",
       "    <tr>\n",
       "      <th>0</th>\n",
       "      <td>14521</td>\n",
       "      <td>Oxy 10, 10gm</td>\n",
       "      <td>Oxy 10, 10gm</td>\n",
       "      <td>out of stock</td>\n",
       "      <td>new</td>\n",
       "      <td>318.00 NPR</td>\n",
       "      <td>286.20 NPR</td>\n",
       "      <td>https://jeevee.com/products?value=14521&amp;type=d...</td>\n",
       "      <td>OXY</td>\n",
       "      <td>https://jeeveedev.s3.us-east-2.amazonaws.com/w...</td>\n",
       "    </tr>\n",
       "    <tr>\n",
       "      <th>1</th>\n",
       "      <td>12352</td>\n",
       "      <td>Make-Up Studio Brush Cleanser(Ph0900)</td>\n",
       "      <td>Make-Up Studio Brush Cleanser(Ph0900)</td>\n",
       "      <td>in stock</td>\n",
       "      <td>new</td>\n",
       "      <td>1785.00 NPR</td>\n",
       "      <td>1785.00 NPR</td>\n",
       "      <td>https://jeevee.com/products?value=12352&amp;type=d...</td>\n",
       "      <td>MAKE-UP STUDIO</td>\n",
       "      <td>https://jeeveedev.s3.us-east-2.amazonaws.com/w...</td>\n",
       "    </tr>\n",
       "    <tr>\n",
       "      <th>2</th>\n",
       "      <td>11507</td>\n",
       "      <td>Buddsbuddy Silicone Orthodontic Pacifier (1pc)</td>\n",
       "      <td>Buddsbuddy Silicone Orthodontic Pacifier (1pc)</td>\n",
       "      <td>in stock</td>\n",
       "      <td>new</td>\n",
       "      <td>199.00 NPR</td>\n",
       "      <td>169.15 NPR</td>\n",
       "      <td>https://jeevee.com/products?value=11507&amp;type=d...</td>\n",
       "      <td>BUDDSBUDDY</td>\n",
       "      <td>https://jeeveedev.s3.us-east-2.amazonaws.com/w...</td>\n",
       "    </tr>\n",
       "    <tr>\n",
       "      <th>3</th>\n",
       "      <td>12401</td>\n",
       "      <td>Make-Up Studio Cream Blusher</td>\n",
       "      <td>Colour-Rebellious Red</td>\n",
       "      <td>in stock</td>\n",
       "      <td>new</td>\n",
       "      <td>2200.00 NPR</td>\n",
       "      <td>2200.00 NPR</td>\n",
       "      <td>https://jeevee.com/products?value=12401&amp;type=d...</td>\n",
       "      <td>MAKE-UP STUDIO</td>\n",
       "      <td>https://jeeveedev.s3.us-east-2.amazonaws.com/w...</td>\n",
       "    </tr>\n",
       "    <tr>\n",
       "      <th>4</th>\n",
       "      <td>14408</td>\n",
       "      <td>Set Wet Hair Gel Cool- 50 Ml</td>\n",
       "      <td>Set Wet Hair Gel Cool- 50 Ml</td>\n",
       "      <td>in stock</td>\n",
       "      <td>new</td>\n",
       "      <td>104.00 NPR</td>\n",
       "      <td>104.00 NPR</td>\n",
       "      <td>https://jeevee.com/products?value=14408&amp;type=d...</td>\n",
       "      <td>SET WET</td>\n",
       "      <td>https://jeeveedev.s3.us-east-2.amazonaws.com/w...</td>\n",
       "    </tr>\n",
       "  </tbody>\n",
       "</table>\n",
       "</div>"
      ],
      "text/plain": [
       "      id                                           title  \\\n",
       "0  14521                                    Oxy 10, 10gm   \n",
       "1  12352           Make-Up Studio Brush Cleanser(Ph0900)   \n",
       "2  11507  Buddsbuddy Silicone Orthodontic Pacifier (1pc)   \n",
       "3  12401                    Make-Up Studio Cream Blusher   \n",
       "4  14408                    Set Wet Hair Gel Cool- 50 Ml   \n",
       "\n",
       "                                      description  availability condition  \\\n",
       "0                                    Oxy 10, 10gm  out of stock       new   \n",
       "1           Make-Up Studio Brush Cleanser(Ph0900)      in stock       new   \n",
       "2  Buddsbuddy Silicone Orthodontic Pacifier (1pc)      in stock       new   \n",
       "3                           Colour-Rebellious Red      in stock       new   \n",
       "4                    Set Wet Hair Gel Cool- 50 Ml      in stock       new   \n",
       "\n",
       "         price   sale_price  \\\n",
       "0   318.00 NPR   286.20 NPR   \n",
       "1  1785.00 NPR  1785.00 NPR   \n",
       "2   199.00 NPR   169.15 NPR   \n",
       "3  2200.00 NPR  2200.00 NPR   \n",
       "4   104.00 NPR   104.00 NPR   \n",
       "\n",
       "                                                link           brand  \\\n",
       "0  https://jeevee.com/products?value=14521&type=d...             OXY   \n",
       "1  https://jeevee.com/products?value=12352&type=d...  MAKE-UP STUDIO   \n",
       "2  https://jeevee.com/products?value=11507&type=d...      BUDDSBUDDY   \n",
       "3  https://jeevee.com/products?value=12401&type=d...  MAKE-UP STUDIO   \n",
       "4  https://jeevee.com/products?value=14408&type=d...         SET WET   \n",
       "\n",
       "                                          image_link  \n",
       "0  https://jeeveedev.s3.us-east-2.amazonaws.com/w...  \n",
       "1  https://jeeveedev.s3.us-east-2.amazonaws.com/w...  \n",
       "2  https://jeeveedev.s3.us-east-2.amazonaws.com/w...  \n",
       "3  https://jeeveedev.s3.us-east-2.amazonaws.com/w...  \n",
       "4  https://jeeveedev.s3.us-east-2.amazonaws.com/w...  "
      ]
     },
     "execution_count": 353,
     "metadata": {},
     "output_type": "execute_result"
    }
   ],
   "source": [
    "lf_dataset_df = dataset_df.copy()\n",
    "new_products = pd.read_csv('data/catalogue.csv')\n",
    "new_products_df = new_products.copy()\n",
    "new_products_df.head()"
   ]
  },
  {
   "cell_type": "code",
   "execution_count": 354,
   "id": "16b15fa1",
   "metadata": {},
   "outputs": [
    {
     "data": {
      "text/html": [
       "<div>\n",
       "<style scoped>\n",
       "    .dataframe tbody tr th:only-of-type {\n",
       "        vertical-align: middle;\n",
       "    }\n",
       "\n",
       "    .dataframe tbody tr th {\n",
       "        vertical-align: top;\n",
       "    }\n",
       "\n",
       "    .dataframe thead th {\n",
       "        text-align: right;\n",
       "    }\n",
       "</style>\n",
       "<table border=\"1\" class=\"dataframe\">\n",
       "  <thead>\n",
       "    <tr style=\"text-align: right;\">\n",
       "      <th></th>\n",
       "      <th>item_id</th>\n",
       "      <th>title</th>\n",
       "      <th>price</th>\n",
       "      <th>brand</th>\n",
       "    </tr>\n",
       "  </thead>\n",
       "  <tbody>\n",
       "    <tr>\n",
       "      <th>0</th>\n",
       "      <td>14521</td>\n",
       "      <td>Oxy 10, 10gm</td>\n",
       "      <td>318.0</td>\n",
       "      <td>OXY</td>\n",
       "    </tr>\n",
       "    <tr>\n",
       "      <th>1</th>\n",
       "      <td>12352</td>\n",
       "      <td>Make-Up Studio Brush Cleanser(Ph0900)</td>\n",
       "      <td>1785.0</td>\n",
       "      <td>MAKE-UP STUDIO</td>\n",
       "    </tr>\n",
       "    <tr>\n",
       "      <th>2</th>\n",
       "      <td>11507</td>\n",
       "      <td>Buddsbuddy Silicone Orthodontic Pacifier (1pc)</td>\n",
       "      <td>199.0</td>\n",
       "      <td>BUDDSBUDDY</td>\n",
       "    </tr>\n",
       "    <tr>\n",
       "      <th>3</th>\n",
       "      <td>12401</td>\n",
       "      <td>Make-Up Studio Cream Blusher</td>\n",
       "      <td>2200.0</td>\n",
       "      <td>MAKE-UP STUDIO</td>\n",
       "    </tr>\n",
       "    <tr>\n",
       "      <th>4</th>\n",
       "      <td>14408</td>\n",
       "      <td>Set Wet Hair Gel Cool- 50 Ml</td>\n",
       "      <td>104.0</td>\n",
       "      <td>SET WET</td>\n",
       "    </tr>\n",
       "  </tbody>\n",
       "</table>\n",
       "</div>"
      ],
      "text/plain": [
       "   item_id                                           title   price  \\\n",
       "0    14521                                    Oxy 10, 10gm   318.0   \n",
       "1    12352           Make-Up Studio Brush Cleanser(Ph0900)  1785.0   \n",
       "2    11507  Buddsbuddy Silicone Orthodontic Pacifier (1pc)   199.0   \n",
       "3    12401                    Make-Up Studio Cream Blusher  2200.0   \n",
       "4    14408                    Set Wet Hair Gel Cool- 50 Ml   104.0   \n",
       "\n",
       "            brand  \n",
       "0             OXY  \n",
       "1  MAKE-UP STUDIO  \n",
       "2      BUDDSBUDDY  \n",
       "3  MAKE-UP STUDIO  \n",
       "4         SET WET  "
      ]
     },
     "execution_count": 354,
     "metadata": {},
     "output_type": "execute_result"
    }
   ],
   "source": [
    "new_products_df.rename(columns={\"id\":\"item_id\"}, inplace=True)\n",
    "new_products_df = new_products_df[['item_id', 'title', 'price','brand']]\n",
    "new_products_df['price'] = new_products_df['price'].str.replace(\" NPR\", '')\n",
    "new_products_df['price'] = new_products_df['price'].str.strip()\n",
    "new_products_df['price'] = new_products_df['price'].astype(float)\n",
    "# new_products_df['price'] = new_products_df['price'].astype(int)\n",
    "new_products_df.head()"
   ]
  },
  {
   "cell_type": "code",
   "execution_count": 355,
   "id": "1669a9fb",
   "metadata": {},
   "outputs": [
    {
     "data": {
      "text/html": [
       "<div>\n",
       "<style scoped>\n",
       "    .dataframe tbody tr th:only-of-type {\n",
       "        vertical-align: middle;\n",
       "    }\n",
       "\n",
       "    .dataframe tbody tr th {\n",
       "        vertical-align: top;\n",
       "    }\n",
       "\n",
       "    .dataframe thead th {\n",
       "        text-align: right;\n",
       "    }\n",
       "</style>\n",
       "<table border=\"1\" class=\"dataframe\">\n",
       "  <thead>\n",
       "    <tr style=\"text-align: right;\">\n",
       "      <th></th>\n",
       "      <th>item_id</th>\n",
       "      <th>title</th>\n",
       "      <th>price</th>\n",
       "      <th>brand</th>\n",
       "    </tr>\n",
       "  </thead>\n",
       "  <tbody>\n",
       "  </tbody>\n",
       "</table>\n",
       "</div>"
      ],
      "text/plain": [
       "Empty DataFrame\n",
       "Columns: [item_id, title, price, brand]\n",
       "Index: []"
      ]
     },
     "execution_count": 355,
     "metadata": {},
     "output_type": "execute_result"
    }
   ],
   "source": [
    "new_products_df[(new_products_df['item_id'] == 14534)]"
   ]
  },
  {
   "cell_type": "code",
   "execution_count": 409,
   "id": "4fcbf740",
   "metadata": {},
   "outputs": [
    {
     "data": {
      "text/html": [
       "<div>\n",
       "<style scoped>\n",
       "    .dataframe tbody tr th:only-of-type {\n",
       "        vertical-align: middle;\n",
       "    }\n",
       "\n",
       "    .dataframe tbody tr th {\n",
       "        vertical-align: top;\n",
       "    }\n",
       "\n",
       "    .dataframe thead th {\n",
       "        text-align: right;\n",
       "    }\n",
       "</style>\n",
       "<table border=\"1\" class=\"dataframe\">\n",
       "  <thead>\n",
       "    <tr style=\"text-align: right;\">\n",
       "      <th></th>\n",
       "      <th>user</th>\n",
       "      <th>item</th>\n",
       "      <th>event_strength</th>\n",
       "      <th>timestamp</th>\n",
       "    </tr>\n",
       "  </thead>\n",
       "  <tbody>\n",
       "    <tr>\n",
       "      <th>39</th>\n",
       "      <td>1fa52161-8421-411f-9f18-6df6eeb31a40</td>\n",
       "      <td>14534</td>\n",
       "      <td>1</td>\n",
       "      <td>1630388273</td>\n",
       "    </tr>\n",
       "    <tr>\n",
       "      <th>16514</th>\n",
       "      <td>292d9b11-f606-4587-bb86-0d75a25b4a7a</td>\n",
       "      <td>14534</td>\n",
       "      <td>1</td>\n",
       "      <td>1631168632</td>\n",
       "    </tr>\n",
       "    <tr>\n",
       "      <th>47768</th>\n",
       "      <td>baaa2d0b-2b42-4a36-b003-3464b9e89ad4</td>\n",
       "      <td>14534</td>\n",
       "      <td>1</td>\n",
       "      <td>1633912402</td>\n",
       "    </tr>\n",
       "    <tr>\n",
       "      <th>49205</th>\n",
       "      <td>792a6084-acee-430f-b40d-81254107ca6f</td>\n",
       "      <td>14534</td>\n",
       "      <td>1</td>\n",
       "      <td>1630524125</td>\n",
       "    </tr>\n",
       "    <tr>\n",
       "      <th>49252</th>\n",
       "      <td>792a6084-acee-430f-b40d-81254107ca6f</td>\n",
       "      <td>14534</td>\n",
       "      <td>1</td>\n",
       "      <td>1630610737</td>\n",
       "    </tr>\n",
       "    <tr>\n",
       "      <th>106707</th>\n",
       "      <td>7823865d-abe5-4644-ac40-07192fde9cd6</td>\n",
       "      <td>14534</td>\n",
       "      <td>1</td>\n",
       "      <td>1630389679</td>\n",
       "    </tr>\n",
       "    <tr>\n",
       "      <th>106924</th>\n",
       "      <td>7823865d-abe5-4644-ac40-07192fde9cd6</td>\n",
       "      <td>14534</td>\n",
       "      <td>1</td>\n",
       "      <td>1631317301</td>\n",
       "    </tr>\n",
       "    <tr>\n",
       "      <th>110312</th>\n",
       "      <td>543f2a07-6853-4ffc-8bfd-a5c590c5decc</td>\n",
       "      <td>14534</td>\n",
       "      <td>1</td>\n",
       "      <td>1630618940</td>\n",
       "    </tr>\n",
       "    <tr>\n",
       "      <th>139236</th>\n",
       "      <td>9df6c9a3-c48c-41b5-aa85-f5ea8f021242</td>\n",
       "      <td>14534</td>\n",
       "      <td>1</td>\n",
       "      <td>1633205519</td>\n",
       "    </tr>\n",
       "    <tr>\n",
       "      <th>275322</th>\n",
       "      <td>04ce8a07-54af-4ffe-98c4-cda8de2f22f6</td>\n",
       "      <td>14534</td>\n",
       "      <td>1</td>\n",
       "      <td>1630361888</td>\n",
       "    </tr>\n",
       "    <tr>\n",
       "      <th>318391</th>\n",
       "      <td>3ec45f0c-6b9b-49d3-9363-165685b6530a</td>\n",
       "      <td>14534</td>\n",
       "      <td>1</td>\n",
       "      <td>1633821726</td>\n",
       "    </tr>\n",
       "    <tr>\n",
       "      <th>384515</th>\n",
       "      <td>96b4ffe6-54ff-4ca2-904f-518b376083b1</td>\n",
       "      <td>14534</td>\n",
       "      <td>1</td>\n",
       "      <td>1630364657</td>\n",
       "    </tr>\n",
       "    <tr>\n",
       "      <th>397938</th>\n",
       "      <td>8b1160fa-2bcb-46da-8669-5a562cf370a8</td>\n",
       "      <td>14534</td>\n",
       "      <td>1</td>\n",
       "      <td>1632774069</td>\n",
       "    </tr>\n",
       "  </tbody>\n",
       "</table>\n",
       "</div>"
      ],
      "text/plain": [
       "                                        user   item  event_strength  \\\n",
       "39      1fa52161-8421-411f-9f18-6df6eeb31a40  14534               1   \n",
       "16514   292d9b11-f606-4587-bb86-0d75a25b4a7a  14534               1   \n",
       "47768   baaa2d0b-2b42-4a36-b003-3464b9e89ad4  14534               1   \n",
       "49205   792a6084-acee-430f-b40d-81254107ca6f  14534               1   \n",
       "49252   792a6084-acee-430f-b40d-81254107ca6f  14534               1   \n",
       "106707  7823865d-abe5-4644-ac40-07192fde9cd6  14534               1   \n",
       "106924  7823865d-abe5-4644-ac40-07192fde9cd6  14534               1   \n",
       "110312  543f2a07-6853-4ffc-8bfd-a5c590c5decc  14534               1   \n",
       "139236  9df6c9a3-c48c-41b5-aa85-f5ea8f021242  14534               1   \n",
       "275322  04ce8a07-54af-4ffe-98c4-cda8de2f22f6  14534               1   \n",
       "318391  3ec45f0c-6b9b-49d3-9363-165685b6530a  14534               1   \n",
       "384515  96b4ffe6-54ff-4ca2-904f-518b376083b1  14534               1   \n",
       "397938  8b1160fa-2bcb-46da-8669-5a562cf370a8  14534               1   \n",
       "\n",
       "         timestamp  \n",
       "39      1630388273  \n",
       "16514   1631168632  \n",
       "47768   1633912402  \n",
       "49205   1630524125  \n",
       "49252   1630610737  \n",
       "106707  1630389679  \n",
       "106924  1631317301  \n",
       "110312  1630618940  \n",
       "139236  1633205519  \n",
       "275322  1630361888  \n",
       "318391  1633821726  \n",
       "384515  1630364657  \n",
       "397938  1632774069  "
      ]
     },
     "execution_count": 409,
     "metadata": {},
     "output_type": "execute_result"
    }
   ],
   "source": [
    "items = new_products_df.copy()\n",
    "users = pd.read_csv('data/users.csv')\n",
    "\n",
    "users_df = users.copy()\n",
    "items_df = items.copy()\n",
    "\n",
    "\n",
    "users_df.dropna(inplace=True)\n",
    "items_df.dropna(inplace=True)\n",
    "\n",
    "# items_df = items_df.append({'item_id':14534, \"brand\":\"SKIN CARE\", \"price\":3034}, ignore_index=True)\n",
    "# items_df = items_df.append({'item_id':8467, \"brand\":\"SKIN CARE\", \"price\":3034}, ignore_index=True)\n",
    "# items_df = items_df.append({'item_id':14780, \"brand\":\"SKIN CARE\", \"price\":3034}, ignore_index=True)\n",
    "# items_df = items_df.append({'item_id':14781, \"brand\":\"SKIN CARE\", \"price\":3034}, ignore_index=True)\n",
    "# items_df = items_df.append({'item_id':14793, \"brand\":\"SKIN CARE\", \"price\":3034}, ignore_index=True)\n",
    "\n",
    "# items_df = items_df.append({'item_id':6198, \"category\":\"SKIN CARE\", \"price\":3034}, ignore_index=True)\n",
    "# items_df = items_df.append({'item_id':190, \"category\":\"SKIN CARE\", \"price\":3034}, ignore_index=True)\n",
    "# items_df = items_df.append({'item_id':14313, \"category\":\"SKIN CARE\", \"price\":3034}, ignore_index=True)\n",
    "# items_df = items_df.append({'item_id':13480, \"category\":\"SKIN CARE\", \"price\":3034}, ignore_index=True)\n",
    "# items_df = items_df.append({'item_id':9365, \"category\":\"SKIN CARE\", \"price\":3034}, ignore_index=True)\n",
    "# items_df = items_df.append({'item_id':10618, \"category\":\"SKIN CARE\", \"price\":3034}, ignore_index=True)\n",
    "# items_df = items_df.append({'item_id':10605, \"category\":\"SKIN CARE\", \"price\":3034}, ignore_index=True)\n",
    "# items_df = items_df.append({'item_id':2772, \"category\":\"SKIN CARE\", \"price\":3034}, ignore_index=True)\n",
    "# items_df = items_df.append({'item_id':14364, \"category\":\"SKIN CARE\", \"price\":3034}, ignore_index=True)\n",
    "# items_df['item_id'].append(9263)\n",
    "# items_df['category'].append(\"SKIN CARE\")\n",
    "# items_df['price'].append(3043)\n",
    "\n",
    "# \n",
    "# items_df['item_id'].append(6198)\n",
    "# items_df['category'].append(\"SKIN CARE\")\n",
    "# items_df['price'].append(3043)\n",
    "\n",
    "# items_df['item_id'].append(190)\n",
    "# items_df['category'].append(\"SKIN CARE\")\n",
    "# items_df['price'].append(3043)\n",
    "\n",
    "\n",
    "dataset_df[(dataset_df['item'] == 14534)]\n",
    "\n",
    "# items_df[(items_df['item_id'] == 12356)]"
   ]
  },
  {
   "cell_type": "code",
   "execution_count": 425,
   "id": "6cb71221",
   "metadata": {},
   "outputs": [],
   "source": [
    "b = items_df['item_id'].sort_values().values\n",
    "a = sorted(dataset_df['item'].unique())\n",
    "data = list(set(a) - set(b))\n",
    "for value in data:\n",
    "    lf_dataset_df.drop(lf_dataset_df.index[lf_dataset_df['item'] == value], inplace = True)"
   ]
  },
  {
   "cell_type": "code",
   "execution_count": 627,
   "id": "c431c1a2",
   "metadata": {},
   "outputs": [],
   "source": [
    "from lightfm.data import Dataset\n",
    "\n",
    "dataset = Dataset()\n",
    "dataset.fit(users_df['id'].values, items_df['item_id'].values)"
   ]
  },
  {
   "cell_type": "code",
   "execution_count": 250,
   "id": "c257cff6",
   "metadata": {},
   "outputs": [
    {
     "name": "stdout",
     "output_type": "stream",
     "text": [
      "Num users: 47277, num_items 6640.\n"
     ]
    }
   ],
   "source": [
    "num_users, num_items = dataset.interactions_shape()\n",
    "print('Num users: {}, num_items {}.'.format(num_users, num_items))"
   ]
  },
  {
   "cell_type": "code",
   "execution_count": 371,
   "id": "53b49e62",
   "metadata": {},
   "outputs": [],
   "source": [
    "notYetIncluded = lf_dataset_df[~lf_dataset_df[\"user\"].astype(str).isin(users_df[\"id\"].astype(str))]\n",
    "\n",
    "for index, row in notYetIncluded.iterrows():\n",
    "    lf_dataset_df.drop(lf_dataset_df.index[lf_dataset_df['item'] == row['item']], inplace = True)"
   ]
  },
  {
   "cell_type": "code",
   "execution_count": 374,
   "id": "6c0c7fa5",
   "metadata": {},
   "outputs": [],
   "source": [
    "lf_dataset_df.to_csv('data/refined_user_item_interactions.csv', index=False)"
   ]
  },
  {
   "cell_type": "code",
   "execution_count": 372,
   "id": "68fcafa4",
   "metadata": {},
   "outputs": [],
   "source": [
    "interactions, weights = dataset.build_interactions((row['user'], row['item'], row['event_strength']) for index, row in lf_dataset_df.iterrows())\n"
   ]
  },
  {
   "cell_type": "code",
   "execution_count": 376,
   "id": "9d2a4e3e",
   "metadata": {},
   "outputs": [
    {
     "data": {
      "text/html": [
       "<div>\n",
       "<style scoped>\n",
       "    .dataframe tbody tr th:only-of-type {\n",
       "        vertical-align: middle;\n",
       "    }\n",
       "\n",
       "    .dataframe tbody tr th {\n",
       "        vertical-align: top;\n",
       "    }\n",
       "\n",
       "    .dataframe thead th {\n",
       "        text-align: right;\n",
       "    }\n",
       "</style>\n",
       "<table border=\"1\" class=\"dataframe\">\n",
       "  <thead>\n",
       "    <tr style=\"text-align: right;\">\n",
       "      <th></th>\n",
       "      <th>item_id</th>\n",
       "      <th>title</th>\n",
       "      <th>price</th>\n",
       "      <th>brand</th>\n",
       "    </tr>\n",
       "  </thead>\n",
       "  <tbody>\n",
       "    <tr>\n",
       "      <th>0</th>\n",
       "      <td>14521</td>\n",
       "      <td>Oxy 10, 10gm</td>\n",
       "      <td>318.0</td>\n",
       "      <td>OXY</td>\n",
       "    </tr>\n",
       "    <tr>\n",
       "      <th>1</th>\n",
       "      <td>12352</td>\n",
       "      <td>Make-Up Studio Brush Cleanser(Ph0900)</td>\n",
       "      <td>1785.0</td>\n",
       "      <td>MAKE-UP STUDIO</td>\n",
       "    </tr>\n",
       "    <tr>\n",
       "      <th>2</th>\n",
       "      <td>11507</td>\n",
       "      <td>Buddsbuddy Silicone Orthodontic Pacifier (1pc)</td>\n",
       "      <td>199.0</td>\n",
       "      <td>BUDDSBUDDY</td>\n",
       "    </tr>\n",
       "    <tr>\n",
       "      <th>3</th>\n",
       "      <td>12401</td>\n",
       "      <td>Make-Up Studio Cream Blusher</td>\n",
       "      <td>2200.0</td>\n",
       "      <td>MAKE-UP STUDIO</td>\n",
       "    </tr>\n",
       "    <tr>\n",
       "      <th>4</th>\n",
       "      <td>14408</td>\n",
       "      <td>Set Wet Hair Gel Cool- 50 Ml</td>\n",
       "      <td>104.0</td>\n",
       "      <td>SET WET</td>\n",
       "    </tr>\n",
       "    <tr>\n",
       "      <th>...</th>\n",
       "      <td>...</td>\n",
       "      <td>...</td>\n",
       "      <td>...</td>\n",
       "      <td>...</td>\n",
       "    </tr>\n",
       "    <tr>\n",
       "      <th>14750</th>\n",
       "      <td>14534</td>\n",
       "      <td>NaN</td>\n",
       "      <td>3034.0</td>\n",
       "      <td>SKIN CARE</td>\n",
       "    </tr>\n",
       "    <tr>\n",
       "      <th>14751</th>\n",
       "      <td>8467</td>\n",
       "      <td>NaN</td>\n",
       "      <td>3034.0</td>\n",
       "      <td>SKIN CARE</td>\n",
       "    </tr>\n",
       "    <tr>\n",
       "      <th>14752</th>\n",
       "      <td>14780</td>\n",
       "      <td>NaN</td>\n",
       "      <td>3034.0</td>\n",
       "      <td>SKIN CARE</td>\n",
       "    </tr>\n",
       "    <tr>\n",
       "      <th>14753</th>\n",
       "      <td>14781</td>\n",
       "      <td>NaN</td>\n",
       "      <td>3034.0</td>\n",
       "      <td>SKIN CARE</td>\n",
       "    </tr>\n",
       "    <tr>\n",
       "      <th>14754</th>\n",
       "      <td>14793</td>\n",
       "      <td>NaN</td>\n",
       "      <td>3034.0</td>\n",
       "      <td>SKIN CARE</td>\n",
       "    </tr>\n",
       "  </tbody>\n",
       "</table>\n",
       "<p>14755 rows × 4 columns</p>\n",
       "</div>"
      ],
      "text/plain": [
       "       item_id                                           title   price  \\\n",
       "0        14521                                    Oxy 10, 10gm   318.0   \n",
       "1        12352           Make-Up Studio Brush Cleanser(Ph0900)  1785.0   \n",
       "2        11507  Buddsbuddy Silicone Orthodontic Pacifier (1pc)   199.0   \n",
       "3        12401                    Make-Up Studio Cream Blusher  2200.0   \n",
       "4        14408                    Set Wet Hair Gel Cool- 50 Ml   104.0   \n",
       "...        ...                                             ...     ...   \n",
       "14750    14534                                             NaN  3034.0   \n",
       "14751     8467                                             NaN  3034.0   \n",
       "14752    14780                                             NaN  3034.0   \n",
       "14753    14781                                             NaN  3034.0   \n",
       "14754    14793                                             NaN  3034.0   \n",
       "\n",
       "                brand  \n",
       "0                 OXY  \n",
       "1      MAKE-UP STUDIO  \n",
       "2          BUDDSBUDDY  \n",
       "3      MAKE-UP STUDIO  \n",
       "4             SET WET  \n",
       "...               ...  \n",
       "14750       SKIN CARE  \n",
       "14751       SKIN CARE  \n",
       "14752       SKIN CARE  \n",
       "14753       SKIN CARE  \n",
       "14754       SKIN CARE  \n",
       "\n",
       "[14755 rows x 4 columns]"
      ]
     },
     "execution_count": 376,
     "metadata": {},
     "output_type": "execute_result"
    }
   ],
   "source": [
    "items_df"
   ]
  },
  {
   "cell_type": "code",
   "execution_count": 410,
   "id": "d4fa6f35",
   "metadata": {},
   "outputs": [
    {
     "data": {
      "text/html": [
       "<div>\n",
       "<style scoped>\n",
       "    .dataframe tbody tr th:only-of-type {\n",
       "        vertical-align: middle;\n",
       "    }\n",
       "\n",
       "    .dataframe tbody tr th {\n",
       "        vertical-align: top;\n",
       "    }\n",
       "\n",
       "    .dataframe thead th {\n",
       "        text-align: right;\n",
       "    }\n",
       "</style>\n",
       "<table border=\"1\" class=\"dataframe\">\n",
       "  <thead>\n",
       "    <tr style=\"text-align: right;\">\n",
       "      <th></th>\n",
       "      <th>item_id</th>\n",
       "      <th>title</th>\n",
       "      <th>price</th>\n",
       "      <th>brand</th>\n",
       "    </tr>\n",
       "  </thead>\n",
       "  <tbody>\n",
       "    <tr>\n",
       "      <th>0</th>\n",
       "      <td>14521</td>\n",
       "      <td>Oxy 10, 10gm</td>\n",
       "      <td>318.0</td>\n",
       "      <td>321</td>\n",
       "    </tr>\n",
       "    <tr>\n",
       "      <th>1</th>\n",
       "      <td>12352</td>\n",
       "      <td>Make-Up Studio Brush Cleanser(Ph0900)</td>\n",
       "      <td>1785.0</td>\n",
       "      <td>264</td>\n",
       "    </tr>\n",
       "    <tr>\n",
       "      <th>2</th>\n",
       "      <td>11507</td>\n",
       "      <td>Buddsbuddy Silicone Orthodontic Pacifier (1pc)</td>\n",
       "      <td>199.0</td>\n",
       "      <td>57</td>\n",
       "    </tr>\n",
       "    <tr>\n",
       "      <th>3</th>\n",
       "      <td>12401</td>\n",
       "      <td>Make-Up Studio Cream Blusher</td>\n",
       "      <td>2200.0</td>\n",
       "      <td>264</td>\n",
       "    </tr>\n",
       "    <tr>\n",
       "      <th>4</th>\n",
       "      <td>14408</td>\n",
       "      <td>Set Wet Hair Gel Cool- 50 Ml</td>\n",
       "      <td>104.0</td>\n",
       "      <td>381</td>\n",
       "    </tr>\n",
       "  </tbody>\n",
       "</table>\n",
       "</div>"
      ],
      "text/plain": [
       "   item_id                                           title   price  brand\n",
       "0    14521                                    Oxy 10, 10gm   318.0    321\n",
       "1    12352           Make-Up Studio Brush Cleanser(Ph0900)  1785.0    264\n",
       "2    11507  Buddsbuddy Silicone Orthodontic Pacifier (1pc)   199.0     57\n",
       "3    12401                    Make-Up Studio Cream Blusher  2200.0    264\n",
       "4    14408                    Set Wet Hair Gel Cool- 50 Ml   104.0    381"
      ]
     },
     "execution_count": 410,
     "metadata": {},
     "output_type": "execute_result"
    }
   ],
   "source": [
    "items_df['brand'] = items_df['brand'].astype('category')\n",
    "items_df['brand'] = items_df['brand'].cat.codes\n",
    "items_features = [(row['price'], row['brand']) for index, row in items_df.iterrows()]\n",
    "items_df.head()"
   ]
  },
  {
   "cell_type": "code",
   "execution_count": 550,
   "id": "480a09dd",
   "metadata": {},
   "outputs": [],
   "source": [
    "items_df.to_csv(\"data/processed_products.csv\", index=False)"
   ]
  },
  {
   "cell_type": "code",
   "execution_count": 412,
   "id": "81a63b5f",
   "metadata": {},
   "outputs": [
    {
     "data": {
      "text/html": [
       "<div>\n",
       "<style scoped>\n",
       "    .dataframe tbody tr th:only-of-type {\n",
       "        vertical-align: middle;\n",
       "    }\n",
       "\n",
       "    .dataframe tbody tr th {\n",
       "        vertical-align: top;\n",
       "    }\n",
       "\n",
       "    .dataframe thead th {\n",
       "        text-align: right;\n",
       "    }\n",
       "</style>\n",
       "<table border=\"1\" class=\"dataframe\">\n",
       "  <thead>\n",
       "    <tr style=\"text-align: right;\">\n",
       "      <th></th>\n",
       "      <th>id</th>\n",
       "      <th>gender</th>\n",
       "      <th>date_of_birth</th>\n",
       "    </tr>\n",
       "  </thead>\n",
       "  <tbody>\n",
       "    <tr>\n",
       "      <th>0</th>\n",
       "      <td>179db347-97e2-4e93-97c8-e0dba4dc69ae</td>\n",
       "      <td>MALE</td>\n",
       "      <td>1983-08-03</td>\n",
       "    </tr>\n",
       "    <tr>\n",
       "      <th>2</th>\n",
       "      <td>d023a4f1-5b6b-4d5d-9f7a-5d7b9a4d06d4</td>\n",
       "      <td>MALE</td>\n",
       "      <td>1982-12-20</td>\n",
       "    </tr>\n",
       "    <tr>\n",
       "      <th>3</th>\n",
       "      <td>f157ba08-cc44-4bb7-b35e-6ab1bfd19944</td>\n",
       "      <td>MALE</td>\n",
       "      <td>1991-05-30</td>\n",
       "    </tr>\n",
       "    <tr>\n",
       "      <th>5</th>\n",
       "      <td>802cff98-87be-4a92-bc4e-9064241b1707</td>\n",
       "      <td>MALE</td>\n",
       "      <td>1995-07-20</td>\n",
       "    </tr>\n",
       "    <tr>\n",
       "      <th>6</th>\n",
       "      <td>25a3bca3-d978-4962-8a24-da295535b2aa</td>\n",
       "      <td>FEMALE</td>\n",
       "      <td>2006-01-01</td>\n",
       "    </tr>\n",
       "  </tbody>\n",
       "</table>\n",
       "</div>"
      ],
      "text/plain": [
       "                                     id  gender date_of_birth\n",
       "0  179db347-97e2-4e93-97c8-e0dba4dc69ae    MALE    1983-08-03\n",
       "2  d023a4f1-5b6b-4d5d-9f7a-5d7b9a4d06d4    MALE    1982-12-20\n",
       "3  f157ba08-cc44-4bb7-b35e-6ab1bfd19944    MALE    1991-05-30\n",
       "5  802cff98-87be-4a92-bc4e-9064241b1707    MALE    1995-07-20\n",
       "6  25a3bca3-d978-4962-8a24-da295535b2aa  FEMALE    2006-01-01"
      ]
     },
     "execution_count": 412,
     "metadata": {},
     "output_type": "execute_result"
    }
   ],
   "source": [
    "users_df.head()"
   ]
  },
  {
   "cell_type": "code",
   "execution_count": 422,
   "id": "ae38357f",
   "metadata": {},
   "outputs": [],
   "source": [
    "from datetime import datetime, date\n",
    "def calculate_age(born):\n",
    "    born = datetime.strptime(born, \"%Y-%m-%d\").date()\n",
    "    today = date.today()\n",
    "    return today.year - born.year - ((today.month, \n",
    "                                      today.day) < (born.month, \n",
    "                                                    born.day))\n",
    "\n",
    "users_df['date_of_birth'] = users_df['date_of_birth'].astype('str')\n",
    "users_df['age'] = users_df['date_of_birth'].apply(calculate_age)\n",
    "users_df['gender'] = users_df['gender'].astype('category')\n",
    "users_df['gender'] = users_df['gender'].cat.codes\n",
    "user_features =  [(row['age'], row['gender']) for index, row in users_df.iterrows()]"
   ]
  },
  {
   "cell_type": "code",
   "execution_count": 625,
   "id": "f15f8097",
   "metadata": {},
   "outputs": [],
   "source": [
    "users_df.to_csv(\"v1/data/users.csv\", index=False)"
   ]
  },
  {
   "cell_type": "code",
   "execution_count": 628,
   "id": "92cebca1",
   "metadata": {
    "scrolled": true
   },
   "outputs": [],
   "source": [
    "dataset.fit(users_df['id'].values, items_df['item_id'].values, item_features=items_features,user_features=user_features)"
   ]
  },
  {
   "cell_type": "code",
   "execution_count": 553,
   "id": "267af548",
   "metadata": {},
   "outputs": [],
   "source": [
    "interactions, weights = dataset.build_interactions((row['user'], row['item'], row['event_strength']) for index, row in lf_dataset_df.iterrows())"
   ]
  },
  {
   "cell_type": "code",
   "execution_count": 562,
   "id": "661a36d8",
   "metadata": {},
   "outputs": [],
   "source": [
    "from lightfm.cross_validation import random_train_test_split\n",
    "from lightfm.evaluation import precision_at_k\n",
    "from lightfm.evaluation import auc_score\n",
    "\n",
    "train, test = random_train_test_split(interactions)"
   ]
  },
  {
   "cell_type": "code",
   "execution_count": 590,
   "id": "7705ebbf",
   "metadata": {
    "scrolled": true
   },
   "outputs": [
    {
     "data": {
      "text/plain": [
       "<lightfm.lightfm.LightFM at 0x1718a9730>"
      ]
     },
     "execution_count": 590,
     "metadata": {},
     "output_type": "execute_result"
    }
   ],
   "source": [
    "from lightfm import LightFM\n",
    "\n",
    "lightfm_model = LightFM(learning_rate=0.05, loss='warp')\n",
    "lightfm_model.fit(interactions, epochs=10)"
   ]
  },
  {
   "cell_type": "code",
   "execution_count": 586,
   "id": "08c72dbd",
   "metadata": {},
   "outputs": [],
   "source": [
    "lightfm_model.item_biases *= 0.0"
   ]
  },
  {
   "cell_type": "code",
   "execution_count": 570,
   "id": "aad5de92",
   "metadata": {},
   "outputs": [
    {
     "name": "stdout",
     "output_type": "stream",
     "text": [
      "   item_id                         title  price  brand\n",
      "4    14408  Set Wet Hair Gel Cool- 50 Ml  104.0    381\n",
      "Godrej Aer Pocket, Bathroom Air Fragrance - Fresh Lush Green, 10g\n",
      "Himalaya Sparkling White Toothpaste 80gm\n",
      "Schwarzkopf Palette Intensive Color Creme, 1-0 Black\n",
      "Alpine 2.5mg Tab\n",
      "Borges Extra Virgin Olive Oil - 250ml\n",
      "Astaberry Handrub Cleanser- 60 Ml\n",
      "Milton Lloyd Colour Me Femme Roll On Red- 10 Ml\n",
      "Etat Libre D'Orange Fils De Dieu Edp 100ml\n",
      "Kellogg'S Muesli No Added Sugar 1 Kg\n"
     ]
    }
   ],
   "source": [
    "def get_similar_product(model, item_id):\n",
    "    # Define similarity as the cosine of the angle\n",
    "    # between the tag latent vectors\n",
    "    \n",
    "    # Normalize the vectors to unit length\n",
    "    tag_embeddings = (model.item_embeddings.T\n",
    "                      / np.linalg.norm(model.item_embeddings, axis=1)).T\n",
    "    \n",
    "    query_embedding = tag_embeddings[item_id]\n",
    "    similarity = np.dot(tag_embeddings, query_embedding)\n",
    "    most_similar = np.argsort(-similarity)[1:10]\n",
    "    \n",
    "    return most_similar\n",
    "\n",
    "print(items_df[(items_df['item_id']==14408)])\n",
    "\n",
    "similar_products = get_similar_product(lightfm_model,14408)\n",
    "for product in similar_products:\n",
    "    print(items_df['title'][product])"
   ]
  },
  {
   "cell_type": "code",
   "execution_count": 609,
   "id": "cde5d982",
   "metadata": {},
   "outputs": [
    {
     "data": {
      "text/plain": [
       "12000"
      ]
     },
     "execution_count": 609,
     "metadata": {},
     "output_type": "execute_result"
    }
   ],
   "source": [
    "from scipy.sparse import csr_matrix\n",
    "n_users = 1\n",
    "n_user_features = 2\n",
    "\n",
    "row = np.array([0, 0])\n",
    "col = np.array([0, 1])\n",
    "data = np.array([22, 0])\n",
    "usr_feat = csr_matrix((data, (row, col)), shape=(n_users, n_user_features))\n",
    "usr_feat\n",
    "\n",
    "scores = lightfm_model.predict(0, np.arange(12000))\n",
    "len(np.argsort(-scores))"
   ]
  },
  {
   "cell_type": "code",
   "execution_count": 582,
   "id": "bc5cce34",
   "metadata": {},
   "outputs": [
    {
     "name": "stdout",
     "output_type": "stream",
     "text": [
      "Make-Up Studio Cream Blusher\n",
      "Set Wet Hair Gel Cool- 50 Ml\n",
      "Make-Up Studio Brush Cleanser(Ph0900)\n",
      "Amayra Naturals Hemp & Rosemary Face Wash, 100ml\n",
      "Make-Up Studio Eye Collection\n",
      "Earth Rhythm Neem Comb\n",
      "Oxy 10, 10gm\n",
      "Maange 10 Pcs Professional Makeup Brushes With Bag\n",
      "The Moms Co. Natural Clay Deep Purifying Face Kit \n",
      "Buddsbuddy Silicone Orthodontic Pacifier (1pc)\n"
     ]
    }
   ],
   "source": [
    "scores = lightfm_model.predict(20000, np.arange(10))\n",
    "items = np.argsort(-scores)\n",
    "for item in items:\n",
    "    print(items_df['title'][item])"
   ]
  },
  {
   "cell_type": "code",
   "execution_count": 587,
   "id": "7778a0f6",
   "metadata": {},
   "outputs": [],
   "source": [
    "train_precision = precision_at_k(lightfm_model, train, k=10).mean()\n",
    "test_precision = precision_at_k(lightfm_model, test, k=10).mean()\n",
    "\n",
    "train_auc = auc_score(lightfm_model, train).mean()\n",
    "test_auc = auc_score(lightfm_model, test).mean()"
   ]
  },
  {
   "cell_type": "code",
   "execution_count": 588,
   "id": "eade1b9d",
   "metadata": {},
   "outputs": [
    {
     "name": "stdout",
     "output_type": "stream",
     "text": [
      "Precision: train 0.06, test 0.04.\n",
      "AUC: train 0.96, test 0.96.\n"
     ]
    }
   ],
   "source": [
    "print('Precision: train %.2f, test %.2f.' % (train_precision, test_precision))\n",
    "print('AUC: train %.2f, test %.2f.' % (train_auc, test_auc))"
   ]
  },
  {
   "cell_type": "code",
   "execution_count": 585,
   "id": "68a4e728",
   "metadata": {},
   "outputs": [],
   "source": [
    "user_mapping = dataset.mapping()[0]\n",
    "item_mapping = dataset.mapping()[2]\n",
    "# item_mapping"
   ]
  }
 ],
 "metadata": {
  "kernelspec": {
   "display_name": "Python 3 (ipykernel)",
   "language": "python",
   "name": "python3"
  },
  "language_info": {
   "codemirror_mode": {
    "name": "ipython",
    "version": 3
   },
   "file_extension": ".py",
   "mimetype": "text/x-python",
   "name": "python",
   "nbconvert_exporter": "python",
   "pygments_lexer": "ipython3",
   "version": "3.9.10"
  }
 },
 "nbformat": 4,
 "nbformat_minor": 5
}
